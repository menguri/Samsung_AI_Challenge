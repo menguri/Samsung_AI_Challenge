{
  "nbformat": 4,
  "nbformat_minor": 0,
  "metadata": {
    "colab": {
      "name": "Samsung AI Challenge",
      "provenance": [],
      "collapsed_sections": [],
      "mount_file_id": "1iMujx-v9PB6FQrfr0MUM0ZnWkEwLBT8D",
      "authorship_tag": "ABX9TyMaW0ZY7r5ZjWwppP2ySj9h",
      "include_colab_link": true
    },
    "kernelspec": {
      "display_name": "Python 3",
      "name": "python3"
    },
    "language_info": {
      "name": "python"
    },
    "accelerator": "TPU"
  },
  "cells": [
    {
      "cell_type": "markdown",
      "metadata": {
        "id": "view-in-github",
        "colab_type": "text"
      },
      "source": [
        "<a href=\"https://colab.research.google.com/github/menguri/Samsung_AI_Challenge/blob/main/Samsung_AI_Challenge.ipynb\" target=\"_parent\"><img src=\"https://colab.research.google.com/assets/colab-badge.svg\" alt=\"Open In Colab\"/></a>"
      ]
    },
    {
      "cell_type": "markdown",
      "metadata": {
        "id": "OgWXPzJ3Lajc"
      },
      "source": [
        "## **Samsung AI Challenge**"
      ]
    },
    {
      "cell_type": "markdown",
      "metadata": {
        "id": "BY1_DYMsOTTT"
      },
      "source": [
        "# **패키지 정리**"
      ]
    },
    {
      "cell_type": "code",
      "metadata": {
        "id": "h1ywFP7NlF-F"
      },
      "source": [
        "!pip install -q condacolab\n",
        "import condacolab\n",
        "condacolab.install()\n",
        "\n",
        "!mamba install -c conda-forge rdkit\n",
        "!mamba install -c conda-forge openbabel"
      ],
      "execution_count": null,
      "outputs": []
    },
    {
      "cell_type": "code",
      "metadata": {
        "id": "P0sbZALRnbT5"
      },
      "source": [
        "#!wget -c https://repo.continuum.io/miniconda/Miniconda3-py37_4.8.3-Linux-x86_64.sh\n",
        "#!chmod +x Miniconda3-py37_4.8.3-Linux-x86_64.sh\n",
        "#!time bash ./Miniconda3-py37_4.8.3-Linux-x86_64.sh -b -f -p /usr/local\n",
        "#!time conda install -q -y -c conda-forge rdkit"
      ],
      "execution_count": null,
      "outputs": []
    },
    {
      "cell_type": "code",
      "metadata": {
        "id": "LMYkzF3cw4DH",
        "colab": {
          "base_uri": "https://localhost:8080/"
        },
        "outputId": "ed918bc1-1d8d-4012-e9ac-c6d897d59666"
      },
      "source": [
        "# SMILES 토큰화하기 위한 라이브러리 다운로드\n",
        "!pip install SmilesPE"
      ],
      "execution_count": null,
      "outputs": [
        {
          "output_type": "stream",
          "name": "stdout",
          "text": [
            "Collecting SmilesPE\n",
            "  Downloading SmilesPE-0.0.3-py3-none-any.whl (15 kB)\n",
            "Collecting fastprogress\n",
            "  Downloading fastprogress-1.0.0-py3-none-any.whl (12 kB)\n",
            "Collecting gensim\n",
            "  Downloading gensim-4.1.2-cp37-cp37m-manylinux_2_12_x86_64.manylinux2010_x86_64.whl (24.1 MB)\n",
            "\u001b[K     |████████████████████████████████| 24.1 MB 2.8 kB/s \n",
            "\u001b[?25hRequirement already satisfied: numpy in /usr/local/lib/python3.7/site-packages (from fastprogress->SmilesPE) (1.21.2)\n",
            "Collecting scipy>=0.18.1\n",
            "  Downloading scipy-1.7.1-cp37-cp37m-manylinux_2_5_x86_64.manylinux1_x86_64.whl (28.5 MB)\n",
            "\u001b[K     |████████████████████████████████| 28.5 MB 35 kB/s \n",
            "\u001b[?25hCollecting smart-open>=1.8.1\n",
            "  Downloading smart_open-5.2.1-py3-none-any.whl (58 kB)\n",
            "\u001b[K     |████████████████████████████████| 58 kB 5.4 MB/s \n",
            "\u001b[?25hInstalling collected packages: smart-open, scipy, gensim, fastprogress, SmilesPE\n",
            "Successfully installed SmilesPE-0.0.3 fastprogress-1.0.0 gensim-4.1.2 scipy-1.7.1 smart-open-5.2.1\n"
          ]
        }
      ]
    },
    {
      "cell_type": "code",
      "metadata": {
        "id": "MJM8I351j26n"
      },
      "source": [
        "import sys\n",
        "sys.path.append(\"/usr/local/lib/python3.7/site-packages\")"
      ],
      "execution_count": null,
      "outputs": []
    },
    {
      "cell_type": "code",
      "metadata": {
        "id": "RTAgNjfXevJZ"
      },
      "source": [
        "from openbabel import pybel"
      ],
      "execution_count": null,
      "outputs": []
    },
    {
      "cell_type": "code",
      "metadata": {
        "colab": {
          "base_uri": "https://localhost:8080/"
        },
        "id": "Y_pVn48Ph4Vu",
        "outputId": "17c6860d-1d44-4c45-8289-14f5aea04bec"
      },
      "source": [
        "import os\n",
        "import numpy as np\n",
        "import pandas as pd\n",
        "import matplotlib.pyplot as plt\n",
        "import cv2\n",
        "!pip install rdkit\n",
        "import rdkit\n",
        "from rdkit import Chem\n",
        "from rdkit.Chem import Draw\n",
        "from rdkit import RDLogger\n",
        "RDLogger.DisableLog('rdApp.*')\n",
        "from tqdm import tqdm\n",
        "from openbabel import pybel\n",
        "import torch\n",
        "from torch import nn\n",
        "from torchvision import models\n",
        "from torch.utils.data import Dataset, DataLoader\n",
        "import warnings\n",
        "warnings.filterwarnings(\"ignore\", category=FutureWarning)\n",
        "warnings.filterwarnings(\"ignore\", category=DeprecationWarning)\n",
        "from google.colab import drive\n",
        "drive.mount('/content/drive')"
      ],
      "execution_count": null,
      "outputs": [
        {
          "output_type": "stream",
          "name": "stdout",
          "text": [
            "\u001b[31mERROR: Could not find a version that satisfies the requirement rdkit\u001b[0m\n",
            "\u001b[31mERROR: No matching distribution found for rdkit\u001b[0m\n",
            "Drive already mounted at /content/drive; to attempt to forcibly remount, call drive.mount(\"/content/drive\", force_remount=True).\n"
          ]
        }
      ]
    },
    {
      "cell_type": "code",
      "metadata": {
        "id": "7ghH1iIQN2QK",
        "colab": {
          "base_uri": "https://localhost:8080/"
        },
        "outputId": "c89fc4e2-762c-4e74-9b91-430342383341"
      },
      "source": [
        "!sudo apt-get install -y fonts-nanum\n",
        "!sudo fc-cache -fv\n",
        "!rm ~/.cache/matplotlib -rf\n",
        "plt.rc('font', family='NanumBarunGothic') "
      ],
      "execution_count": null,
      "outputs": [
        {
          "output_type": "stream",
          "name": "stdout",
          "text": [
            "Reading package lists... Done\n",
            "Building dependency tree       \n",
            "Reading state information... Done\n",
            "fonts-nanum is already the newest version (20170925-1).\n",
            "0 upgraded, 0 newly installed, 0 to remove and 37 not upgraded.\n",
            "/usr/share/fonts: caching, new cache contents: 0 fonts, 1 dirs\n",
            "/usr/share/fonts/truetype: caching, new cache contents: 0 fonts, 3 dirs\n",
            "/usr/share/fonts/truetype/humor-sans: caching, new cache contents: 1 fonts, 0 dirs\n",
            "/usr/share/fonts/truetype/liberation: caching, new cache contents: 16 fonts, 0 dirs\n",
            "/usr/share/fonts/truetype/nanum: caching, new cache contents: 10 fonts, 0 dirs\n",
            "/usr/local/fonts: skipping, no such directory\n",
            "/root/.local/share/fonts: skipping, no such directory\n",
            "/root/.fonts: skipping, no such directory\n",
            "/usr/share/fonts/truetype: skipping, looped directory detected\n",
            "/usr/share/fonts/truetype/humor-sans: skipping, looped directory detected\n",
            "/usr/share/fonts/truetype/liberation: skipping, looped directory detected\n",
            "/usr/share/fonts/truetype/nanum: skipping, looped directory detected\n",
            "/usr/local/var/cache/fontconfig: cleaning cache directory\n",
            "/root/.cache/fontconfig: not cleaning non-existent cache directory\n",
            "/root/.fontconfig: not cleaning non-existent cache directory\n",
            "fc-cache: succeeded\n"
          ]
        }
      ]
    },
    {
      "cell_type": "code",
      "metadata": {
        "colab": {
          "base_uri": "https://localhost:8080/"
        },
        "id": "kk0e9lJuLZfU",
        "outputId": "7288e547-6f1c-4f06-bbae-8bc43d9895f8"
      },
      "source": [
        "print('numpy verison :', np.__version__)\n",
        "print('pandas version :', pd.__version__)\n",
        "print('opencv version :', cv2.__version__)\n",
        "print('rdkit version :', rdkit.__version__)\n",
        "print('torch version :', torch.__version__)"
      ],
      "execution_count": null,
      "outputs": [
        {
          "output_type": "stream",
          "name": "stdout",
          "text": [
            "numpy verison : 1.19.5\n",
            "pandas version : 1.1.5\n",
            "opencv version : 4.1.2\n",
            "rdkit version : 2021.03.5\n",
            "torch version : 1.9.0+cu102\n"
          ]
        }
      ]
    },
    {
      "cell_type": "markdown",
      "metadata": {
        "id": "DH1p7-syOYL7"
      },
      "source": [
        "# **1. 데이터 불러오기 및 확인**"
      ]
    },
    {
      "cell_type": "code",
      "metadata": {
        "id": "2I5MCvZtLraF"
      },
      "source": [
        "path = '/content/drive/MyDrive/Data Science/Colab Notebooks/Samsung AI Challenge for Scientific Discovery/'\n",
        "train = pd.read_csv(path + 'train.csv')\n",
        "test = pd.read_csv(path + 'test.csv')\n",
        "dev = pd.read_csv(path + 'dev.csv')\n",
        "sample_submission = pd.read_csv(path + 'sample_submission.csv')"
      ],
      "execution_count": null,
      "outputs": []
    },
    {
      "cell_type": "code",
      "metadata": {
        "colab": {
          "base_uri": "https://localhost:8080/",
          "height": 204
        },
        "id": "xVUoN6wRPVQo",
        "outputId": "e5737916-0670-43b9-acd4-6627d3058270"
      },
      "source": [
        "train.head()"
      ],
      "execution_count": null,
      "outputs": [
        {
          "output_type": "execute_result",
          "data": {
            "text/html": [
              "<div>\n",
              "<style scoped>\n",
              "    .dataframe tbody tr th:only-of-type {\n",
              "        vertical-align: middle;\n",
              "    }\n",
              "\n",
              "    .dataframe tbody tr th {\n",
              "        vertical-align: top;\n",
              "    }\n",
              "\n",
              "    .dataframe thead th {\n",
              "        text-align: right;\n",
              "    }\n",
              "</style>\n",
              "<table border=\"1\" class=\"dataframe\">\n",
              "  <thead>\n",
              "    <tr style=\"text-align: right;\">\n",
              "      <th></th>\n",
              "      <th>uid</th>\n",
              "      <th>SMILES</th>\n",
              "      <th>S1_energy(eV)</th>\n",
              "      <th>T1_energy(eV)</th>\n",
              "    </tr>\n",
              "  </thead>\n",
              "  <tbody>\n",
              "    <tr>\n",
              "      <th>0</th>\n",
              "      <td>train_0</td>\n",
              "      <td>CCC1CCCCN1C(=O)C(C)OC(=O)c1c(C)oc(-n2cccc2)c1C#N</td>\n",
              "      <td>4.6747</td>\n",
              "      <td>3.3809</td>\n",
              "    </tr>\n",
              "    <tr>\n",
              "      <th>1</th>\n",
              "      <td>train_1</td>\n",
              "      <td>COc1ccc(Oc2ccc(N3C(=S)NC(c4ccccn4)C3c3cc(C)n(-...</td>\n",
              "      <td>3.6617</td>\n",
              "      <td>3.4585</td>\n",
              "    </tr>\n",
              "    <tr>\n",
              "      <th>2</th>\n",
              "      <td>train_2</td>\n",
              "      <td>CC(=O)Nc1ccc(C(=O)[C@H](C)Sc2nnc(C3CCCCC3)o2)cc1</td>\n",
              "      <td>3.6420</td>\n",
              "      <td>3.1787</td>\n",
              "    </tr>\n",
              "    <tr>\n",
              "      <th>3</th>\n",
              "      <td>train_3</td>\n",
              "      <td>OC(CNC1CC1)CN1CCc2sccc2C1</td>\n",
              "      <td>4.8901</td>\n",
              "      <td>3.7847</td>\n",
              "    </tr>\n",
              "    <tr>\n",
              "      <th>4</th>\n",
              "      <td>train_4</td>\n",
              "      <td>CCNC(CCCC(F)(F)F)C1(OCC)CCOCC1</td>\n",
              "      <td>6.4967</td>\n",
              "      <td>6.2724</td>\n",
              "    </tr>\n",
              "  </tbody>\n",
              "</table>\n",
              "</div>"
            ],
            "text/plain": [
              "       uid  ... T1_energy(eV)\n",
              "0  train_0  ...        3.3809\n",
              "1  train_1  ...        3.4585\n",
              "2  train_2  ...        3.1787\n",
              "3  train_3  ...        3.7847\n",
              "4  train_4  ...        6.2724\n",
              "\n",
              "[5 rows x 4 columns]"
            ]
          },
          "metadata": {},
          "execution_count": 10
        }
      ]
    },
    {
      "cell_type": "code",
      "metadata": {
        "colab": {
          "base_uri": "https://localhost:8080/",
          "height": 204
        },
        "id": "MHS_0NxOQaxE",
        "outputId": "c2752eb0-9770-4ac5-f9a9-30b51bf1945d"
      },
      "source": [
        "dev.head()"
      ],
      "execution_count": null,
      "outputs": [
        {
          "output_type": "execute_result",
          "data": {
            "text/html": [
              "<div>\n",
              "<style scoped>\n",
              "    .dataframe tbody tr th:only-of-type {\n",
              "        vertical-align: middle;\n",
              "    }\n",
              "\n",
              "    .dataframe tbody tr th {\n",
              "        vertical-align: top;\n",
              "    }\n",
              "\n",
              "    .dataframe thead th {\n",
              "        text-align: right;\n",
              "    }\n",
              "</style>\n",
              "<table border=\"1\" class=\"dataframe\">\n",
              "  <thead>\n",
              "    <tr style=\"text-align: right;\">\n",
              "      <th></th>\n",
              "      <th>uid</th>\n",
              "      <th>SMILES</th>\n",
              "      <th>S1_energy(eV)</th>\n",
              "      <th>T1_energy(eV)</th>\n",
              "    </tr>\n",
              "  </thead>\n",
              "  <tbody>\n",
              "    <tr>\n",
              "      <th>0</th>\n",
              "      <td>dev_0</td>\n",
              "      <td>O=C1c2ccccc2C2(c3ccccc31)c1ccccc1N(c1ccc(-c3nc...</td>\n",
              "      <td>2.7609</td>\n",
              "      <td>2.7540</td>\n",
              "    </tr>\n",
              "    <tr>\n",
              "      <th>1</th>\n",
              "      <td>dev_1</td>\n",
              "      <td>Cc1cccc2c3ccccc3n(-c3ccc(-c4c(-c5ccccc5)c(C#N)...</td>\n",
              "      <td>3.0495</td>\n",
              "      <td>3.0163</td>\n",
              "    </tr>\n",
              "    <tr>\n",
              "      <th>2</th>\n",
              "      <td>dev_2</td>\n",
              "      <td>CC1(C)c2ccccc2-c2ccc(-c3c(F)c(F)c(-c4ccc5c(c4)...</td>\n",
              "      <td>2.8314</td>\n",
              "      <td>2.1412</td>\n",
              "    </tr>\n",
              "    <tr>\n",
              "      <th>3</th>\n",
              "      <td>dev_3</td>\n",
              "      <td>CC(C)(C)c1ccc2c(c1)B1c3cc(C(C)(C)C)ccc3Oc3cc(-...</td>\n",
              "      <td>3.1813</td>\n",
              "      <td>2.9424</td>\n",
              "    </tr>\n",
              "    <tr>\n",
              "      <th>4</th>\n",
              "      <td>dev_4</td>\n",
              "      <td>O=C1c2cc(-c3ccc4c(c3)c3ccccc3n4-c3ccccc3)ccc2S...</td>\n",
              "      <td>2.9559</td>\n",
              "      <td>2.7362</td>\n",
              "    </tr>\n",
              "  </tbody>\n",
              "</table>\n",
              "</div>"
            ],
            "text/plain": [
              "     uid  ... T1_energy(eV)\n",
              "0  dev_0  ...        2.7540\n",
              "1  dev_1  ...        3.0163\n",
              "2  dev_2  ...        2.1412\n",
              "3  dev_3  ...        2.9424\n",
              "4  dev_4  ...        2.7362\n",
              "\n",
              "[5 rows x 4 columns]"
            ]
          },
          "metadata": {},
          "execution_count": 11
        }
      ]
    },
    {
      "cell_type": "code",
      "metadata": {
        "colab": {
          "base_uri": "https://localhost:8080/"
        },
        "id": "BSNQLrkVQs5W",
        "outputId": "7a1dfb9f-17ce-4043-abb3-00c2b7aef502"
      },
      "source": [
        "# 파일 정보 확인\n",
        "for i in [train, test, dev]:\n",
        "  print(i.info())\n",
        "\n",
        "\n",
        "# img 파일 만들기 / [Baseline 참고]\n",
        "\n",
        "#for idx, row in tqdm(test.iterrows()):\n",
        "#    file = row['uid']\n",
        "#    smiles = row['SMILES']\n",
        "#    m = Chem.MolFromSmiles(smiles)\n",
        "#    if m != None:\n",
        "#        img = Draw.MolToImage(m, size=(300,300))\n",
        "#        img.save(f'/content/drive/MyDrive/Data Science/Colab Notebooks/Samsung AI Challenge for Scientific Discovery/data/test_img/{file}.png')"
      ],
      "execution_count": null,
      "outputs": [
        {
          "output_type": "stream",
          "name": "stdout",
          "text": [
            "<class 'pandas.core.frame.DataFrame'>\n",
            "RangeIndex: 30274 entries, 0 to 30273\n",
            "Data columns (total 4 columns):\n",
            " #   Column         Non-Null Count  Dtype  \n",
            "---  ------         --------------  -----  \n",
            " 0   uid            30274 non-null  object \n",
            " 1   SMILES         30274 non-null  object \n",
            " 2   S1_energy(eV)  30274 non-null  float64\n",
            " 3   T1_energy(eV)  30274 non-null  float64\n",
            "dtypes: float64(2), object(2)\n",
            "memory usage: 946.2+ KB\n",
            "None\n",
            "<class 'pandas.core.frame.DataFrame'>\n",
            "RangeIndex: 602 entries, 0 to 601\n",
            "Data columns (total 2 columns):\n",
            " #   Column  Non-Null Count  Dtype \n",
            "---  ------  --------------  ----- \n",
            " 0   uid     602 non-null    object\n",
            " 1   SMILES  602 non-null    object\n",
            "dtypes: object(2)\n",
            "memory usage: 9.5+ KB\n",
            "None\n",
            "<class 'pandas.core.frame.DataFrame'>\n",
            "RangeIndex: 71 entries, 0 to 70\n",
            "Data columns (total 4 columns):\n",
            " #   Column         Non-Null Count  Dtype  \n",
            "---  ------         --------------  -----  \n",
            " 0   uid            71 non-null     object \n",
            " 1   SMILES         71 non-null     object \n",
            " 2   S1_energy(eV)  71 non-null     float64\n",
            " 3   T1_energy(eV)  71 non-null     float64\n",
            "dtypes: float64(2), object(2)\n",
            "memory usage: 2.3+ KB\n",
            "None\n"
          ]
        }
      ]
    },
    {
      "cell_type": "code",
      "metadata": {
        "colab": {
          "base_uri": "https://localhost:8080/",
          "height": 283
        },
        "id": "1VGYUPGvSsu9",
        "outputId": "6dec0193-a248-4db0-d7bf-6aea007bacf7"
      },
      "source": [
        "train['S1_energy(eV)'].hist(bins=100, alpha=0.5)\n",
        "train['T1_energy(eV)'].hist(bins=100, alpha=0.5)\n",
        "plt.show()"
      ],
      "execution_count": null,
      "outputs": [
        {
          "output_type": "stream",
          "name": "stderr",
          "text": [
            "findfont: Font family ['NanumBarunGothic'] not found. Falling back to DejaVu Sans.\n"
          ]
        },
        {
          "output_type": "display_data",
          "data": {
            "image/png": "[encoded data removed]",
            "text/plain": [
              "<Figure size 432x288 with 1 Axes>"
            ]
          },
          "metadata": {
            "needs_background": "light"
          }
        }
      ]
    },
    {
      "cell_type": "code",
      "metadata": {
        "id": "eSLfbo34rMO5"
      },
      "source": [
        "# sdf 로드를 위한 function\n",
        "def sdf_load(uid, name):\n",
        "  paths = os.path.join(path + f'data/{name}_sdf/{name}_{uid}.sdf')\n",
        "  return paths\n",
        "\n",
        "mols = dict()\n",
        "\n",
        "# sdf 파일 읽어주고, mols 딕셔너리 생성 -> dataframe 생성까지 function\n",
        "# 수행완료 \n",
        "\n",
        "def dic_to_df(file, name):\n",
        "  for n in tqdm(file.index):\n",
        "    mol = [i for i in pybel.readfile('sdf', sdf_load(n, name))]\n",
        "    if len(mol) > 0:\n",
        "      mols[n] = mol[0]\n",
        "  print(file)\n",
        "  mols_df = pd.DataFrame().from_dict({n:v.calcdesc() for n,v in mols.items()}).transpose()\n",
        "  mols_df.loc[:,'uid'] = [f'{name}_{n}' for n in mols.keys()]\n",
        "  print(mols_df)\n",
        "  print(name)\n",
        "  df = pd.merge(file, mols_df,'outer',on='uid')\n",
        "  if name == 'dev' or 'train':\n",
        "    df['ST1_GAP(eV)'] = df['S1_energy(eV)'] - df['T1_energy(eV)']\n",
        "  return df\n",
        "\n",
        "def dic_to_df_for_test(file, name):\n",
        "  for n in tqdm(file.index):\n",
        "    mol = [i for i in pybel.readfile('sdf', sdf_load(n, name))]\n",
        "    if len(mol) > 0:\n",
        "      mols[n] = mol[0]\n",
        "  print(file)\n",
        "  mols_df = pd.DataFrame().from_dict({n:v.calcdesc() for n,v in mols.items()}).transpose()\n",
        "  mols_df.loc[:,'uid'] = [f'{name}_{n}' for n in mols.keys()]\n",
        "  print(mols_df)\n",
        "  print(name)\n",
        "  df = pd.merge(file, mols_df, 'outer', on='uid')\n",
        "  return df\n",
        "\n",
        "list = ['train', 'test', 'dev']\n",
        "#df_train = dic_to_df(train, list[0])\n",
        "#df_dev = dic_to_df(dev, list[2])\n",
        "#df_test = dic_to_df_for_test(test, list[1])"
      ],
      "execution_count": null,
      "outputs": []
    },
    {
      "cell_type": "code",
      "metadata": {
        "id": "k-_s8-JVjx_0"
      },
      "source": [
        "# sdf 파일을 데이터프레임에 녺였다. \n",
        "path = '/content/drive/MyDrive/Data Science/Colab Notebooks/Samsung AI Challenge for Scientific Discovery/dataframe/'\n",
        "\n",
        "df_train = pd.read_csv(path + 'df_train.csv')\n",
        "#df_train.to_csv('/content/drive/MyDrive/Data Science/Colab Notebooks/Samsung AI Challenge for Scientific Discovery/dataframe/df_train.csv')\n",
        "\n",
        "df_test = pd.read_csv(path + 'df_test.csv')\n",
        "#df_test.to_csv('/content/drive/MyDrive/Data Science/Colab Notebooks/Samsung AI Challenge for Scientific Discovery/dataframe/df_test.csv')\n",
        "\n",
        "df_dev = pd.read_csv(path + 'df_dev.csv')\n",
        "#df_dev.to_csv('/content/drive/MyDrive/Data Science/Colab Notebooks/Samsung AI Challenge for Scientific Discovery/dataframe/df_dev.csv')\n",
        "\n",
        "df_origin = pd.read_csv(path + 'df_origin.csv')\n",
        "#df_origin.to_csv('/content/drive/MyDrive/Data Science/Colab Notebooks/Samsung AI Challenge for Scientific Discovery/dataframe/df_origin.csv')"
      ],
      "execution_count": null,
      "outputs": []
    },
    {
      "cell_type": "markdown",
      "metadata": {
        "id": "foV_runne1UI"
      },
      "source": [
        "# **2. EDA & FE**"
      ]
    },
    {
      "cell_type": "code",
      "metadata": {
        "id": "Tlj3PeL1g8G6",
        "colab": {
          "base_uri": "https://localhost:8080/",
          "height": 490
        },
        "outputId": "6d2c39bf-f74c-435a-d4c0-c42f7b5ac39f"
      },
      "source": [
        "#df_test 를 같이 전처리해주는게 좋을듯\n",
        "df_origin"
      ],
      "execution_count": null,
      "outputs": [
        {
          "output_type": "execute_result",
          "data": {
            "text/html": [
              "<div>\n",
              "<style scoped>\n",
              "    .dataframe tbody tr th:only-of-type {\n",
              "        vertical-align: middle;\n",
              "    }\n",
              "\n",
              "    .dataframe tbody tr th {\n",
              "        vertical-align: top;\n",
              "    }\n",
              "\n",
              "    .dataframe thead th {\n",
              "        text-align: right;\n",
              "    }\n",
              "</style>\n",
              "<table border=\"1\" class=\"dataframe\">\n",
              "  <thead>\n",
              "    <tr style=\"text-align: right;\">\n",
              "      <th></th>\n",
              "      <th>Unnamed: 0</th>\n",
              "      <th>uid</th>\n",
              "      <th>SMILES</th>\n",
              "      <th>S1_energy(eV)</th>\n",
              "      <th>T1_energy(eV)</th>\n",
              "      <th>abonds</th>\n",
              "      <th>atoms</th>\n",
              "      <th>bonds</th>\n",
              "      <th>cansmi</th>\n",
              "      <th>cansmiNS</th>\n",
              "      <th>dbonds</th>\n",
              "      <th>formula</th>\n",
              "      <th>HBA1</th>\n",
              "      <th>HBA2</th>\n",
              "      <th>HBD</th>\n",
              "      <th>InChI</th>\n",
              "      <th>InChIKey</th>\n",
              "      <th>L5</th>\n",
              "      <th>logP</th>\n",
              "      <th>MP</th>\n",
              "      <th>MR</th>\n",
              "      <th>MW</th>\n",
              "      <th>nF</th>\n",
              "      <th>rotors</th>\n",
              "      <th>s</th>\n",
              "      <th>sbonds</th>\n",
              "      <th>smarts</th>\n",
              "      <th>tbonds</th>\n",
              "      <th>title</th>\n",
              "      <th>TPSA</th>\n",
              "      <th>ST1_GAP(eV)</th>\n",
              "    </tr>\n",
              "  </thead>\n",
              "  <tbody>\n",
              "    <tr>\n",
              "      <th>0</th>\n",
              "      <td>0</td>\n",
              "      <td>train_0</td>\n",
              "      <td>CCC1CCCCN1C(=O)C(C)OC(=O)c1c(C)oc(-n2cccc2)c1C#N</td>\n",
              "      <td>4.6747</td>\n",
              "      <td>3.3809</td>\n",
              "      <td>10.0</td>\n",
              "      <td>53.0</td>\n",
              "      <td>55.0</td>\n",
              "      <td>NaN</td>\n",
              "      <td>NaN</td>\n",
              "      <td>2.0</td>\n",
              "      <td>NaN</td>\n",
              "      <td>30.0</td>\n",
              "      <td>7.0</td>\n",
              "      <td>0.0</td>\n",
              "      <td>NaN</td>\n",
              "      <td>NaN</td>\n",
              "      <td>NaN</td>\n",
              "      <td>3.52468</td>\n",
              "      <td>148.1122</td>\n",
              "      <td>107.1555</td>\n",
              "      <td>383.44090</td>\n",
              "      <td>0.0</td>\n",
              "      <td>7.0</td>\n",
              "      <td>NaN</td>\n",
              "      <td>42.0</td>\n",
              "      <td>NaN</td>\n",
              "      <td>1.0</td>\n",
              "      <td>NaN</td>\n",
              "      <td>88.47</td>\n",
              "      <td>1.2938</td>\n",
              "    </tr>\n",
              "    <tr>\n",
              "      <th>1</th>\n",
              "      <td>1</td>\n",
              "      <td>train_1</td>\n",
              "      <td>COc1ccc(Oc2ccc(N3C(=S)NC(c4ccccn4)C3c3cc(C)n(-...</td>\n",
              "      <td>3.6617</td>\n",
              "      <td>3.4585</td>\n",
              "      <td>29.0</td>\n",
              "      <td>71.0</td>\n",
              "      <td>76.0</td>\n",
              "      <td>NaN</td>\n",
              "      <td>NaN</td>\n",
              "      <td>1.0</td>\n",
              "      <td>NaN</td>\n",
              "      <td>36.0</td>\n",
              "      <td>8.0</td>\n",
              "      <td>2.0</td>\n",
              "      <td>NaN</td>\n",
              "      <td>NaN</td>\n",
              "      <td>NaN</td>\n",
              "      <td>8.21990</td>\n",
              "      <td>315.7129</td>\n",
              "      <td>176.8537</td>\n",
              "      <td>597.12636</td>\n",
              "      <td>0.0</td>\n",
              "      <td>7.0</td>\n",
              "      <td>NaN</td>\n",
              "      <td>46.0</td>\n",
              "      <td>NaN</td>\n",
              "      <td>0.0</td>\n",
              "      <td>NaN</td>\n",
              "      <td>103.87</td>\n",
              "      <td>0.2032</td>\n",
              "    </tr>\n",
              "    <tr>\n",
              "      <th>2</th>\n",
              "      <td>2</td>\n",
              "      <td>train_2</td>\n",
              "      <td>CC(=O)Nc1ccc(C(=O)[C@H](C)Sc2nnc(C3CCCCC3)o2)cc1</td>\n",
              "      <td>3.6420</td>\n",
              "      <td>3.1787</td>\n",
              "      <td>11.0</td>\n",
              "      <td>49.0</td>\n",
              "      <td>51.0</td>\n",
              "      <td>NaN</td>\n",
              "      <td>NaN</td>\n",
              "      <td>2.0</td>\n",
              "      <td>NaN</td>\n",
              "      <td>29.0</td>\n",
              "      <td>7.0</td>\n",
              "      <td>1.0</td>\n",
              "      <td>NaN</td>\n",
              "      <td>NaN</td>\n",
              "      <td>NaN</td>\n",
              "      <td>4.51220</td>\n",
              "      <td>187.5404</td>\n",
              "      <td>101.7412</td>\n",
              "      <td>373.46922</td>\n",
              "      <td>0.0</td>\n",
              "      <td>7.0</td>\n",
              "      <td>NaN</td>\n",
              "      <td>38.0</td>\n",
              "      <td>NaN</td>\n",
              "      <td>0.0</td>\n",
              "      <td>NaN</td>\n",
              "      <td>110.39</td>\n",
              "      <td>0.4633</td>\n",
              "    </tr>\n",
              "    <tr>\n",
              "      <th>3</th>\n",
              "      <td>3</td>\n",
              "      <td>train_3</td>\n",
              "      <td>OC(CNC1CC1)CN1CCc2sccc2C1</td>\n",
              "      <td>4.8901</td>\n",
              "      <td>3.7847</td>\n",
              "      <td>5.0</td>\n",
              "      <td>37.0</td>\n",
              "      <td>39.0</td>\n",
              "      <td>NaN</td>\n",
              "      <td>NaN</td>\n",
              "      <td>0.0</td>\n",
              "      <td>NaN</td>\n",
              "      <td>23.0</td>\n",
              "      <td>4.0</td>\n",
              "      <td>2.0</td>\n",
              "      <td>NaN</td>\n",
              "      <td>NaN</td>\n",
              "      <td>NaN</td>\n",
              "      <td>1.54790</td>\n",
              "      <td>100.1604</td>\n",
              "      <td>74.4465</td>\n",
              "      <td>252.37570</td>\n",
              "      <td>0.0</td>\n",
              "      <td>5.0</td>\n",
              "      <td>NaN</td>\n",
              "      <td>34.0</td>\n",
              "      <td>NaN</td>\n",
              "      <td>0.0</td>\n",
              "      <td>NaN</td>\n",
              "      <td>63.74</td>\n",
              "      <td>1.1054</td>\n",
              "    </tr>\n",
              "    <tr>\n",
              "      <th>4</th>\n",
              "      <td>4</td>\n",
              "      <td>train_4</td>\n",
              "      <td>CCNC(CCCC(F)(F)F)C1(OCC)CCOCC1</td>\n",
              "      <td>6.4967</td>\n",
              "      <td>6.2724</td>\n",
              "      <td>0.0</td>\n",
              "      <td>46.0</td>\n",
              "      <td>46.0</td>\n",
              "      <td>NaN</td>\n",
              "      <td>NaN</td>\n",
              "      <td>0.0</td>\n",
              "      <td>NaN</td>\n",
              "      <td>29.0</td>\n",
              "      <td>3.0</td>\n",
              "      <td>1.0</td>\n",
              "      <td>NaN</td>\n",
              "      <td>NaN</td>\n",
              "      <td>NaN</td>\n",
              "      <td>3.67370</td>\n",
              "      <td>10.2322</td>\n",
              "      <td>72.4987</td>\n",
              "      <td>297.35695</td>\n",
              "      <td>3.0</td>\n",
              "      <td>9.0</td>\n",
              "      <td>NaN</td>\n",
              "      <td>46.0</td>\n",
              "      <td>NaN</td>\n",
              "      <td>0.0</td>\n",
              "      <td>NaN</td>\n",
              "      <td>30.49</td>\n",
              "      <td>0.2243</td>\n",
              "    </tr>\n",
              "    <tr>\n",
              "      <th>...</th>\n",
              "      <td>...</td>\n",
              "      <td>...</td>\n",
              "      <td>...</td>\n",
              "      <td>...</td>\n",
              "      <td>...</td>\n",
              "      <td>...</td>\n",
              "      <td>...</td>\n",
              "      <td>...</td>\n",
              "      <td>...</td>\n",
              "      <td>...</td>\n",
              "      <td>...</td>\n",
              "      <td>...</td>\n",
              "      <td>...</td>\n",
              "      <td>...</td>\n",
              "      <td>...</td>\n",
              "      <td>...</td>\n",
              "      <td>...</td>\n",
              "      <td>...</td>\n",
              "      <td>...</td>\n",
              "      <td>...</td>\n",
              "      <td>...</td>\n",
              "      <td>...</td>\n",
              "      <td>...</td>\n",
              "      <td>...</td>\n",
              "      <td>...</td>\n",
              "      <td>...</td>\n",
              "      <td>...</td>\n",
              "      <td>...</td>\n",
              "      <td>...</td>\n",
              "      <td>...</td>\n",
              "      <td>...</td>\n",
              "    </tr>\n",
              "    <tr>\n",
              "      <th>30340</th>\n",
              "      <td>66</td>\n",
              "      <td>dev_66</td>\n",
              "      <td>N#Cc1cc(-c2ccc(N3c4ccccc4Oc4ccccc43)cc2)c(-c2c...</td>\n",
              "      <td>2.1939</td>\n",
              "      <td>2.1846</td>\n",
              "      <td>42.0</td>\n",
              "      <td>76.0</td>\n",
              "      <td>84.0</td>\n",
              "      <td>NaN</td>\n",
              "      <td>NaN</td>\n",
              "      <td>0.0</td>\n",
              "      <td>NaN</td>\n",
              "      <td>32.0</td>\n",
              "      <td>4.0</td>\n",
              "      <td>0.0</td>\n",
              "      <td>NaN</td>\n",
              "      <td>NaN</td>\n",
              "      <td>NaN</td>\n",
              "      <td>12.04496</td>\n",
              "      <td>359.8248</td>\n",
              "      <td>202.1280</td>\n",
              "      <td>642.70284</td>\n",
              "      <td>0.0</td>\n",
              "      <td>4.0</td>\n",
              "      <td>NaN</td>\n",
              "      <td>40.0</td>\n",
              "      <td>NaN</td>\n",
              "      <td>2.0</td>\n",
              "      <td>NaN</td>\n",
              "      <td>72.52</td>\n",
              "      <td>0.0093</td>\n",
              "    </tr>\n",
              "    <tr>\n",
              "      <th>30341</th>\n",
              "      <td>67</td>\n",
              "      <td>dev_67</td>\n",
              "      <td>CC1(C)c2ccccc2N(c2ccc(-c3nc4ccc(N5c6ccccc6C(C)...</td>\n",
              "      <td>2.3537</td>\n",
              "      <td>2.3371</td>\n",
              "      <td>59.0</td>\n",
              "      <td>123.0</td>\n",
              "      <td>135.0</td>\n",
              "      <td>NaN</td>\n",
              "      <td>NaN</td>\n",
              "      <td>0.0</td>\n",
              "      <td>NaN</td>\n",
              "      <td>58.0</td>\n",
              "      <td>2.0</td>\n",
              "      <td>0.0</td>\n",
              "      <td>NaN</td>\n",
              "      <td>NaN</td>\n",
              "      <td>NaN</td>\n",
              "      <td>17.48610</td>\n",
              "      <td>467.6751</td>\n",
              "      <td>300.7880</td>\n",
              "      <td>904.14982</td>\n",
              "      <td>0.0</td>\n",
              "      <td>5.0</td>\n",
              "      <td>NaN</td>\n",
              "      <td>76.0</td>\n",
              "      <td>NaN</td>\n",
              "      <td>0.0</td>\n",
              "      <td>NaN</td>\n",
              "      <td>35.50</td>\n",
              "      <td>0.0166</td>\n",
              "    </tr>\n",
              "    <tr>\n",
              "      <th>30342</th>\n",
              "      <td>68</td>\n",
              "      <td>dev_68</td>\n",
              "      <td>Cc1cc(-n2c3ccc(C(C)(C)C)cc3c3cc(C(C)(C)C)ccc32...</td>\n",
              "      <td>2.1364</td>\n",
              "      <td>2.1260</td>\n",
              "      <td>54.0</td>\n",
              "      <td>144.0</td>\n",
              "      <td>154.0</td>\n",
              "      <td>NaN</td>\n",
              "      <td>NaN</td>\n",
              "      <td>0.0</td>\n",
              "      <td>NaN</td>\n",
              "      <td>74.0</td>\n",
              "      <td>2.0</td>\n",
              "      <td>0.0</td>\n",
              "      <td>NaN</td>\n",
              "      <td>NaN</td>\n",
              "      <td>NaN</td>\n",
              "      <td>13.65020</td>\n",
              "      <td>520.8950</td>\n",
              "      <td>320.7020</td>\n",
              "      <td>938.93468</td>\n",
              "      <td>0.0</td>\n",
              "      <td>8.0</td>\n",
              "      <td>NaN</td>\n",
              "      <td>100.0</td>\n",
              "      <td>NaN</td>\n",
              "      <td>0.0</td>\n",
              "      <td>NaN</td>\n",
              "      <td>9.86</td>\n",
              "      <td>0.0104</td>\n",
              "    </tr>\n",
              "    <tr>\n",
              "      <th>30343</th>\n",
              "      <td>69</td>\n",
              "      <td>dev_69</td>\n",
              "      <td>Cc1cc(-n2c3ccccc3c3ccccc32)cc(C)c1B1c2ccccc2B(...</td>\n",
              "      <td>2.2650</td>\n",
              "      <td>2.2511</td>\n",
              "      <td>54.0</td>\n",
              "      <td>96.0</td>\n",
              "      <td>106.0</td>\n",
              "      <td>NaN</td>\n",
              "      <td>NaN</td>\n",
              "      <td>0.0</td>\n",
              "      <td>NaN</td>\n",
              "      <td>42.0</td>\n",
              "      <td>2.0</td>\n",
              "      <td>0.0</td>\n",
              "      <td>NaN</td>\n",
              "      <td>NaN</td>\n",
              "      <td>NaN</td>\n",
              "      <td>8.46020</td>\n",
              "      <td>481.7242</td>\n",
              "      <td>243.6220</td>\n",
              "      <td>714.50940</td>\n",
              "      <td>0.0</td>\n",
              "      <td>4.0</td>\n",
              "      <td>NaN</td>\n",
              "      <td>52.0</td>\n",
              "      <td>NaN</td>\n",
              "      <td>0.0</td>\n",
              "      <td>NaN</td>\n",
              "      <td>9.86</td>\n",
              "      <td>0.0139</td>\n",
              "    </tr>\n",
              "    <tr>\n",
              "      <th>30344</th>\n",
              "      <td>70</td>\n",
              "      <td>dev_70</td>\n",
              "      <td>CC(C)(C)c1ccc2c(c1)c1cc(C(C)(C)C)ccc1n2-c1c(Cl...</td>\n",
              "      <td>2.5477</td>\n",
              "      <td>2.4184</td>\n",
              "      <td>51.0</td>\n",
              "      <td>146.0</td>\n",
              "      <td>155.0</td>\n",
              "      <td>NaN</td>\n",
              "      <td>NaN</td>\n",
              "      <td>0.0</td>\n",
              "      <td>NaN</td>\n",
              "      <td>74.0</td>\n",
              "      <td>5.0</td>\n",
              "      <td>0.0</td>\n",
              "      <td>NaN</td>\n",
              "      <td>NaN</td>\n",
              "      <td>NaN</td>\n",
              "      <td>19.15966</td>\n",
              "      <td>533.5115</td>\n",
              "      <td>319.5190</td>\n",
              "      <td>994.78578</td>\n",
              "      <td>0.0</td>\n",
              "      <td>9.0</td>\n",
              "      <td>NaN</td>\n",
              "      <td>102.0</td>\n",
              "      <td>NaN</td>\n",
              "      <td>2.0</td>\n",
              "      <td>NaN</td>\n",
              "      <td>62.37</td>\n",
              "      <td>0.1293</td>\n",
              "    </tr>\n",
              "  </tbody>\n",
              "</table>\n",
              "<p>30345 rows × 31 columns</p>\n",
              "</div>"
            ],
            "text/plain": [
              "       Unnamed: 0      uid  ...    TPSA  ST1_GAP(eV)\n",
              "0               0  train_0  ...   88.47       1.2938\n",
              "1               1  train_1  ...  103.87       0.2032\n",
              "2               2  train_2  ...  110.39       0.4633\n",
              "3               3  train_3  ...   63.74       1.1054\n",
              "4               4  train_4  ...   30.49       0.2243\n",
              "...           ...      ...  ...     ...          ...\n",
              "30340          66   dev_66  ...   72.52       0.0093\n",
              "30341          67   dev_67  ...   35.50       0.0166\n",
              "30342          68   dev_68  ...    9.86       0.0104\n",
              "30343          69   dev_69  ...    9.86       0.0139\n",
              "30344          70   dev_70  ...   62.37       0.1293\n",
              "\n",
              "[30345 rows x 31 columns]"
            ]
          },
          "metadata": {},
          "execution_count": 16
        }
      ]
    },
    {
      "cell_type": "code",
      "metadata": {
        "id": "Tli_NwhWTXs1",
        "colab": {
          "base_uri": "https://localhost:8080/",
          "height": 1000
        },
        "outputId": "6edb9055-1a25-4a0c-e8fd-f88f40a8dac8"
      },
      "source": [
        "##1-0 히트맵을 통한 상관변수 확인\n",
        "\n",
        "import seaborn as sns\n",
        "\n",
        "print(df_origin.info())\n",
        "print('----df_origin----')\n",
        "\n",
        "\n",
        "##1-1 상관성 있는 변수만 추리기\n",
        "cor = df_origin.corr()\n",
        "print(cor)\n",
        "print('----corr----')\n",
        "basic = pd.Index(['uid', 'SMILES'])\n",
        "cor_fe = cor.index[abs(cor['ST1_GAP(eV)']) >= 0.05]\n",
        "\n",
        "corr = cor_fe.append(basic)\n",
        "\n",
        "# cor_fe -> 나중에 test에도 적용해줘야 해.\n",
        "print(corr)\n",
        "print('----corr----')\n",
        "\n",
        "\n",
        "##1-2 S1/T1 제거 But SMILES는 있어야 해.\n",
        "df_o_corr = df_origin[corr]\n",
        "# df_test도 똑같이\n",
        "df_test_corr = df_test[['atoms', 'bonds', 'HBA1', 'MP', 'MR',\n",
        "       'MW', 'sbonds', 'uid', 'SMILES']]\n",
        "\n",
        "df_o_corr = df_o_corr.drop(['S1_energy(eV)', 'T1_energy(eV)'], axis=1)\n",
        "print('----df_test_corr----')\n",
        "df_test_corr"
      ],
      "execution_count": null,
      "outputs": [
        {
          "output_type": "stream",
          "name": "stdout",
          "text": [
            "<class 'pandas.core.frame.DataFrame'>\n",
            "RangeIndex: 30345 entries, 0 to 30344\n",
            "Data columns (total 31 columns):\n",
            " #   Column         Non-Null Count  Dtype  \n",
            "---  ------         --------------  -----  \n",
            " 0   Unnamed: 0     30345 non-null  int64  \n",
            " 1   uid            30345 non-null  object \n",
            " 2   SMILES         30345 non-null  object \n",
            " 3   S1_energy(eV)  30345 non-null  float64\n",
            " 4   T1_energy(eV)  30345 non-null  float64\n",
            " 5   abonds         30341 non-null  float64\n",
            " 6   atoms          30341 non-null  float64\n",
            " 7   bonds          30341 non-null  float64\n",
            " 8   cansmi         0 non-null      float64\n",
            " 9   cansmiNS       0 non-null      float64\n",
            " 10  dbonds         30341 non-null  float64\n",
            " 11  formula        0 non-null      float64\n",
            " 12  HBA1           30341 non-null  float64\n",
            " 13  HBA2           30341 non-null  float64\n",
            " 14  HBD            30341 non-null  float64\n",
            " 15  InChI          0 non-null      float64\n",
            " 16  InChIKey       0 non-null      float64\n",
            " 17  L5             0 non-null      float64\n",
            " 18  logP           30341 non-null  float64\n",
            " 19  MP             30341 non-null  float64\n",
            " 20  MR             30341 non-null  float64\n",
            " 21  MW             30341 non-null  float64\n",
            " 22  nF             30341 non-null  float64\n",
            " 23  rotors         30341 non-null  float64\n",
            " 24  s              0 non-null      float64\n",
            " 25  sbonds         30341 non-null  float64\n",
            " 26  smarts         0 non-null      float64\n",
            " 27  tbonds         30341 non-null  float64\n",
            " 28  title          0 non-null      float64\n",
            " 29  TPSA           30341 non-null  float64\n",
            " 30  ST1_GAP(eV)    30345 non-null  float64\n",
            "dtypes: float64(28), int64(1), object(2)\n",
            "memory usage: 7.2+ MB\n",
            "None\n",
            "----df_origin----\n",
            "               Unnamed: 0  S1_energy(eV)  ...      TPSA  ST1_GAP(eV)\n",
            "Unnamed: 0       1.000000      -0.220368  ... -0.074864     0.027193\n",
            "S1_energy(eV)   -0.220368       1.000000  ... -0.181389     0.218812\n",
            "T1_energy(eV)   -0.232757       0.913674  ... -0.165160    -0.196675\n",
            "abonds           0.241837      -0.568157  ...  0.060526    -0.043910\n",
            "atoms            0.144004      -0.283843  ...  0.192463    -0.095418\n",
            "bonds            0.157282      -0.315146  ...  0.186583    -0.095405\n",
            "cansmi                NaN            NaN  ...       NaN          NaN\n",
            "cansmiNS              NaN            NaN  ...       NaN          NaN\n",
            "dbonds           0.025508      -0.295766  ...  0.564724    -0.014874\n",
            "formula               NaN            NaN  ...       NaN          NaN\n",
            "HBA1             0.050116      -0.058023  ...  0.229559    -0.101534\n",
            "HBA2            -0.092061      -0.117297  ...  0.864406    -0.045846\n",
            "HBD             -0.126546       0.154091  ...  0.532976     0.022716\n",
            "InChI                 NaN            NaN  ...       NaN          NaN\n",
            "InChIKey              NaN            NaN  ...       NaN          NaN\n",
            "L5                    NaN            NaN  ...       NaN          NaN\n",
            "logP             0.223371      -0.394056  ... -0.128905    -0.038575\n",
            "MP               0.161979      -0.544850  ...  0.509419    -0.068095\n",
            "MR               0.197290      -0.464183  ...  0.211389    -0.096513\n",
            "MW               0.162349      -0.457824  ...  0.332354    -0.093579\n",
            "nF               0.020599      -0.058725  ... -0.077119     0.008506\n",
            "rotors          -0.026589       0.012956  ...  0.357109    -0.038150\n",
            "s                     NaN            NaN  ...       NaN          NaN\n",
            "sbonds           0.043120      -0.009325  ...  0.148922    -0.094822\n",
            "smarts                NaN            NaN  ...       NaN          NaN\n",
            "tbonds           0.111985      -0.165074  ...  0.030275    -0.011142\n",
            "title                 NaN            NaN  ...       NaN          NaN\n",
            "TPSA            -0.074864      -0.181389  ...  1.000000    -0.041080\n",
            "ST1_GAP(eV)      0.027193       0.218812  ... -0.041080     1.000000\n",
            "\n",
            "[29 rows x 29 columns]\n",
            "----corr----\n",
            "Index(['S1_energy(eV)', 'T1_energy(eV)', 'atoms', 'bonds', 'HBA1', 'MP', 'MR',\n",
            "       'MW', 'sbonds', 'ST1_GAP(eV)', 'uid', 'SMILES'],\n",
            "      dtype='object')\n",
            "----corr----\n",
            "----df_test_corr----\n"
          ]
        },
        {
          "output_type": "execute_result",
          "data": {
            "text/html": [
              "<div>\n",
              "<style scoped>\n",
              "    .dataframe tbody tr th:only-of-type {\n",
              "        vertical-align: middle;\n",
              "    }\n",
              "\n",
              "    .dataframe tbody tr th {\n",
              "        vertical-align: top;\n",
              "    }\n",
              "\n",
              "    .dataframe thead th {\n",
              "        text-align: right;\n",
              "    }\n",
              "</style>\n",
              "<table border=\"1\" class=\"dataframe\">\n",
              "  <thead>\n",
              "    <tr style=\"text-align: right;\">\n",
              "      <th></th>\n",
              "      <th>atoms</th>\n",
              "      <th>bonds</th>\n",
              "      <th>HBA1</th>\n",
              "      <th>MP</th>\n",
              "      <th>MR</th>\n",
              "      <th>MW</th>\n",
              "      <th>sbonds</th>\n",
              "      <th>uid</th>\n",
              "      <th>SMILES</th>\n",
              "    </tr>\n",
              "  </thead>\n",
              "  <tbody>\n",
              "    <tr>\n",
              "      <th>0</th>\n",
              "      <td>58.0</td>\n",
              "      <td>60.0</td>\n",
              "      <td>37.0</td>\n",
              "      <td>120.9150</td>\n",
              "      <td>109.4147</td>\n",
              "      <td>380.544680</td>\n",
              "      <td>52.0</td>\n",
              "      <td>test_0</td>\n",
              "      <td>COc1ccc(S(=O)(=O)NC2CCN(C3CCCCC3)CC2)c(C)c1C</td>\n",
              "    </tr>\n",
              "    <tr>\n",
              "      <th>1</th>\n",
              "      <td>83.0</td>\n",
              "      <td>86.0</td>\n",
              "      <td>53.0</td>\n",
              "      <td>150.1419</td>\n",
              "      <td>137.8138</td>\n",
              "      <td>428.733280</td>\n",
              "      <td>85.0</td>\n",
              "      <td>test_1</td>\n",
              "      <td>CC(CCCC1CCC2C3=C(CC[C@]12C)[C@@]1(C)CC[C@H](C)...</td>\n",
              "    </tr>\n",
              "    <tr>\n",
              "      <th>2</th>\n",
              "      <td>59.0</td>\n",
              "      <td>63.0</td>\n",
              "      <td>28.0</td>\n",
              "      <td>328.3890</td>\n",
              "      <td>132.8929</td>\n",
              "      <td>511.540326</td>\n",
              "      <td>37.0</td>\n",
              "      <td>test_2</td>\n",
              "      <td>C[C@@H]1C[C@@H]1c1ccc2c(c1)c(-c1ccc[nH]c1=O)c(...</td>\n",
              "    </tr>\n",
              "    <tr>\n",
              "      <th>3</th>\n",
              "      <td>63.0</td>\n",
              "      <td>67.0</td>\n",
              "      <td>33.0</td>\n",
              "      <td>275.6852</td>\n",
              "      <td>143.7467</td>\n",
              "      <td>497.611280</td>\n",
              "      <td>38.0</td>\n",
              "      <td>test_3</td>\n",
              "      <td>CCCn1c(=O)c2ccccc2n2c(SCC(=O)NC(Cc3ccccc3)c3cc...</td>\n",
              "    </tr>\n",
              "    <tr>\n",
              "      <th>4</th>\n",
              "      <td>70.0</td>\n",
              "      <td>73.0</td>\n",
              "      <td>41.0</td>\n",
              "      <td>287.7806</td>\n",
              "      <td>153.5609</td>\n",
              "      <td>589.749840</td>\n",
              "      <td>49.0</td>\n",
              "      <td>test_4</td>\n",
              "      <td>CC(C)CN(C[C@@H](O)[C@H](Cc1ccccc1)NC(=O)OCc1cn...</td>\n",
              "    </tr>\n",
              "    <tr>\n",
              "      <th>...</th>\n",
              "      <td>...</td>\n",
              "      <td>...</td>\n",
              "      <td>...</td>\n",
              "      <td>...</td>\n",
              "      <td>...</td>\n",
              "      <td>...</td>\n",
              "      <td>...</td>\n",
              "      <td>...</td>\n",
              "      <td>...</td>\n",
              "    </tr>\n",
              "    <tr>\n",
              "      <th>597</th>\n",
              "      <td>92.0</td>\n",
              "      <td>104.0</td>\n",
              "      <td>34.0</td>\n",
              "      <td>560.9173</td>\n",
              "      <td>246.3080</td>\n",
              "      <td>764.872080</td>\n",
              "      <td>37.0</td>\n",
              "      <td>test_597</td>\n",
              "      <td>N#Cc1c(-n2c3ccccc3c3ccccc32)c(-n2c3ccccc3c3ccc...</td>\n",
              "    </tr>\n",
              "    <tr>\n",
              "      <th>598</th>\n",
              "      <td>88.0</td>\n",
              "      <td>96.0</td>\n",
              "      <td>42.0</td>\n",
              "      <td>318.1822</td>\n",
              "      <td>213.1560</td>\n",
              "      <td>646.820720</td>\n",
              "      <td>54.0</td>\n",
              "      <td>test_598</td>\n",
              "      <td>CC1(C)c2ccccc2N(c2ccc(-c3cc(-c4ccc(N5c6ccccc6C...</td>\n",
              "    </tr>\n",
              "    <tr>\n",
              "      <th>599</th>\n",
              "      <td>91.0</td>\n",
              "      <td>99.0</td>\n",
              "      <td>44.0</td>\n",
              "      <td>323.0215</td>\n",
              "      <td>218.1220</td>\n",
              "      <td>660.847300</td>\n",
              "      <td>57.0</td>\n",
              "      <td>test_599</td>\n",
              "      <td>Cc1nc(-c2ccc(N3c4ccccc4C(C)(C)c4ccccc43)cc2)cc...</td>\n",
              "    </tr>\n",
              "    <tr>\n",
              "      <th>600</th>\n",
              "      <td>45.0</td>\n",
              "      <td>50.0</td>\n",
              "      <td>19.0</td>\n",
              "      <td>202.4009</td>\n",
              "      <td>122.7480</td>\n",
              "      <td>392.472340</td>\n",
              "      <td>22.0</td>\n",
              "      <td>test_600</td>\n",
              "      <td>c1ccc2c(c1)Oc1ccccc1N2c1ccc(-c2nc3ccccc3s2)cc1</td>\n",
              "    </tr>\n",
              "    <tr>\n",
              "      <th>601</th>\n",
              "      <td>78.0</td>\n",
              "      <td>88.0</td>\n",
              "      <td>32.0</td>\n",
              "      <td>402.4906</td>\n",
              "      <td>219.0540</td>\n",
              "      <td>706.832840</td>\n",
              "      <td>38.0</td>\n",
              "      <td>test_601</td>\n",
              "      <td>c1ccc2c(c1)Oc1ccccc1N2c1ccc(-c2nc3cc4sc(-c5ccc...</td>\n",
              "    </tr>\n",
              "  </tbody>\n",
              "</table>\n",
              "<p>602 rows × 9 columns</p>\n",
              "</div>"
            ],
            "text/plain": [
              "     atoms  bonds  ...       uid                                             SMILES\n",
              "0     58.0   60.0  ...    test_0       COc1ccc(S(=O)(=O)NC2CCN(C3CCCCC3)CC2)c(C)c1C\n",
              "1     83.0   86.0  ...    test_1  CC(CCCC1CCC2C3=C(CC[C@]12C)[C@@]1(C)CC[C@H](C)...\n",
              "2     59.0   63.0  ...    test_2  C[C@@H]1C[C@@H]1c1ccc2c(c1)c(-c1ccc[nH]c1=O)c(...\n",
              "3     63.0   67.0  ...    test_3  CCCn1c(=O)c2ccccc2n2c(SCC(=O)NC(Cc3ccccc3)c3cc...\n",
              "4     70.0   73.0  ...    test_4  CC(C)CN(C[C@@H](O)[C@H](Cc1ccccc1)NC(=O)OCc1cn...\n",
              "..     ...    ...  ...       ...                                                ...\n",
              "597   92.0  104.0  ...  test_597  N#Cc1c(-n2c3ccccc3c3ccccc32)c(-n2c3ccccc3c3ccc...\n",
              "598   88.0   96.0  ...  test_598  CC1(C)c2ccccc2N(c2ccc(-c3cc(-c4ccc(N5c6ccccc6C...\n",
              "599   91.0   99.0  ...  test_599  Cc1nc(-c2ccc(N3c4ccccc4C(C)(C)c4ccccc43)cc2)cc...\n",
              "600   45.0   50.0  ...  test_600     c1ccc2c(c1)Oc1ccccc1N2c1ccc(-c2nc3ccccc3s2)cc1\n",
              "601   78.0   88.0  ...  test_601  c1ccc2c(c1)Oc1ccccc1N2c1ccc(-c2nc3cc4sc(-c5ccc...\n",
              "\n",
              "[602 rows x 9 columns]"
            ]
          },
          "metadata": {},
          "execution_count": 17
        }
      ]
    },
    {
      "cell_type": "code",
      "metadata": {
        "colab": {
          "base_uri": "https://localhost:8080/",
          "height": 677
        },
        "id": "mqCnE7c2i-SQ",
        "outputId": "6fd78cc2-1e9d-44cc-d5f1-1606a208e6fb"
      },
      "source": [
        "#1-3 \n",
        "plt.figure(figsize=(15,10))\n",
        "sns.heatmap(df_origin.corr(),annot=True)"
      ],
      "execution_count": null,
      "outputs": [
        {
          "output_type": "execute_result",
          "data": {
            "text/plain": [
              "<matplotlib.axes._subplots.AxesSubplot at 0x7f78b91c5710>"
            ]
          },
          "metadata": {},
          "execution_count": 18
        },
        {
          "output_type": "display_data",
          "data": {
            "image/png": "[encoded data removed]",
            "text/plain": [
              "<Figure size 1080x720 with 2 Axes>"
            ]
          },
          "metadata": {
            "needs_background": "light"
          }
        }
      ]
    },
    {
      "cell_type": "code",
      "metadata": {
        "colab": {
          "base_uri": "https://localhost:8080/",
          "height": 298
        },
        "id": "FuRO5-rnnxgV",
        "outputId": "bb10b536-0666-4f89-ee0d-1d4c50715519"
      },
      "source": [
        "##2-1 타겟변수 정규성 확보\n",
        "\n",
        "from scipy import stats\n",
        "from scipy.stats import norm\n",
        "\n",
        "sns.distplot(df_o_corr['ST1_GAP(eV)'],fit = norm)"
      ],
      "execution_count": null,
      "outputs": [
        {
          "output_type": "execute_result",
          "data": {
            "text/plain": [
              "<matplotlib.axes._subplots.AxesSubplot at 0x7f78a83f2250>"
            ]
          },
          "metadata": {},
          "execution_count": 19
        },
        {
          "output_type": "display_data",
          "data": {
            "image/png": "[encoded data removed]",
            "text/plain": [
              "<Figure size 432x288 with 1 Axes>"
            ]
          },
          "metadata": {
            "needs_background": "light"
          }
        }
      ]
    },
    {
      "cell_type": "code",
      "metadata": {
        "colab": {
          "base_uri": "https://localhost:8080/",
          "height": 367
        },
        "id": "XxrtwS2doRz6",
        "outputId": "09f0f913-a0b7-4da1-d7f8-04b27eaf03aa"
      },
      "source": [
        "##2-2 qq플롯 그리기\n",
        "stats.probplot(df_o_corr['ST1_GAP(eV)'], plot=plt)"
      ],
      "execution_count": null,
      "outputs": [
        {
          "output_type": "execute_result",
          "data": {
            "text/plain": [
              "((array([-4.07667682, -3.86543786, -3.75005186, ...,  3.75005186,\n",
              "          3.86543786,  4.07667682]),\n",
              "  array([0.    , 0.    , 0.    , ..., 3.0678, 3.0689, 3.5129])),\n",
              " (0.3636304700102507, 0.8486466831438457, 0.994434611681775))"
            ]
          },
          "metadata": {},
          "execution_count": 20
        },
        {
          "output_type": "stream",
          "name": "stderr",
          "text": [
            "findfont: Font family ['NanumBarunGothic'] not found. Falling back to DejaVu Sans.\n"
          ]
        },
        {
          "output_type": "display_data",
          "data": {
            "image/png": "[encoded data removed]",
            "text/plain": [
              "<Figure size 432x288 with 1 Axes>"
            ]
          },
          "metadata": {
            "needs_background": "light"
          }
        }
      ]
    },
    {
      "cell_type": "code",
      "metadata": {
        "colab": {
          "base_uri": "https://localhost:8080/",
          "height": 385
        },
        "id": "YPL7yamnoU9z",
        "outputId": "fd527761-cbdd-4361-f5c7-84e58c7e9456"
      },
      "source": [
        "#2-3 'ST1_GAP(eV)' target 값의 정규성 확보\n",
        "df_o_corr['ST1_GAP(eV)'] = np.log1p(df_o_corr['ST1_GAP(eV)'])\n",
        "stats.probplot(df_o_corr['ST1_GAP(eV)'], plot=plt)"
      ],
      "execution_count": null,
      "outputs": [
        {
          "output_type": "execute_result",
          "data": {
            "text/plain": [
              "((array([-4.07667682, -3.86543786, -3.75005186, ...,  3.75005186,\n",
              "          3.86543786,  4.07667682]),\n",
              "  array([0.        , 0.        , 0.        , ..., 1.40310231, 1.40337269,\n",
              "         1.50693996])),\n",
              " (0.20306094155283277, 0.5940592591546598, 0.9891294190479226))"
            ]
          },
          "metadata": {},
          "execution_count": 21
        },
        {
          "output_type": "display_data",
          "data": {
            "image/png": "[encoded data removed]",
            "text/plain": [
              "<Figure size 432x288 with 1 Axes>"
            ]
          },
          "metadata": {
            "needs_background": "light"
          }
        }
      ]
    },
    {
      "cell_type": "code",
      "metadata": {
        "id": "KwvdN-KDXTio"
      },
      "source": [
        "#2-4 타겟값 분리 / 한번에 전처리하기 위해 train과 test 합치기\n",
        "\n",
        "# train 데이터프레임에서 타겟값 빼주기\n",
        "target = df_o_corr['ST1_GAP(eV)']\n",
        "# test의 list 뽑기\n",
        "test_list = df_test_corr.columns\n",
        "# train에 test list만 남기고 버리기\n",
        "df_train = df_o_corr[test_list]\n",
        "# 합치기 -> 'ST1_GAP(eV)' 자연스럽게 없어진다.\n",
        "df_concat = pd.concat((df_train, df_test_corr))\n",
        "# 'uid', 'SMILES' 는 박스칵스 변환 뒤에 다시 넣어주기\n",
        "df_int = df_concat.select_dtypes(exclude='object')\n",
        "df_index = df_concat[['uid', 'SMILES']]"
      ],
      "execution_count": null,
      "outputs": []
    },
    {
      "cell_type": "code",
      "metadata": {
        "colab": {
          "base_uri": "https://localhost:8080/",
          "height": 851
        },
        "id": "jRu-GhbgpQTf",
        "outputId": "a34a76b4-7525-4acb-aa60-d8219f52a785"
      },
      "source": [
        "##3-1 변수 boxcox 변환 전 / SMILES 와 uid 를 잠시 빼줘야 한다. \n",
        "\n",
        "from scipy.stats import skew \n",
        "\n",
        "# 숫자형에만 적용\n",
        "skewness = df_int.apply(lambda x: skew(x.dropna())).sort_values(ascending=False)\n",
        "print(skewness)\n",
        "print('----------')\n",
        "\n",
        "\n",
        "##3-2 박스칵스 진행\n",
        "from scipy.special import boxcox1p\n",
        "lam = 0.15\n",
        "\n",
        "for feat in df_int.columns:\n",
        "    df_int[feat] = boxcox1p(df_int[feat], lam)\n",
        "\n",
        "\n",
        "##3-3 박스칵스 결과확인\n",
        "skewness = df_int.apply(lambda x: skew(x.dropna())).sort_values(ascending=False)\n",
        "print(skewness)\n",
        "print('----------')\n",
        "\n",
        "\n",
        "##3-4 다시 합체\n",
        "df_concat = pd.concat([df_index,df_int], axis=1, sort=False)\n",
        "df_concat"
      ],
      "execution_count": null,
      "outputs": [
        {
          "output_type": "stream",
          "name": "stdout",
          "text": [
            "MR        3.490877\n",
            "bonds     3.273350\n",
            "atoms     3.193339\n",
            "MW        2.907991\n",
            "HBA1      2.276071\n",
            "sbonds    2.254451\n",
            "MP        2.122207\n",
            "dtype: float64\n",
            "----------\n",
            "MR        0.739679\n",
            "atoms     0.568788\n",
            "bonds     0.549634\n",
            "MW        0.537894\n",
            "sbonds    0.029809\n",
            "HBA1      0.013253\n",
            "MP       -0.919167\n",
            "dtype: float64\n",
            "----------\n"
          ]
        },
        {
          "output_type": "stream",
          "name": "stderr",
          "text": [
            "/usr/local/lib/python3.7/dist-packages/ipykernel_launcher.py:16: SettingWithCopyWarning: \n",
            "A value is trying to be set on a copy of a slice from a DataFrame.\n",
            "Try using .loc[row_indexer,col_indexer] = value instead\n",
            "\n",
            "See the caveats in the documentation: https://pandas.pydata.org/pandas-docs/stable/user_guide/indexing.html#returning-a-view-versus-a-copy\n",
            "  app.launch_new_instance()\n"
          ]
        },
        {
          "output_type": "execute_result",
          "data": {
            "text/html": [
              "<div>\n",
              "<style scoped>\n",
              "    .dataframe tbody tr th:only-of-type {\n",
              "        vertical-align: middle;\n",
              "    }\n",
              "\n",
              "    .dataframe tbody tr th {\n",
              "        vertical-align: top;\n",
              "    }\n",
              "\n",
              "    .dataframe thead th {\n",
              "        text-align: right;\n",
              "    }\n",
              "</style>\n",
              "<table border=\"1\" class=\"dataframe\">\n",
              "  <thead>\n",
              "    <tr style=\"text-align: right;\">\n",
              "      <th></th>\n",
              "      <th>uid</th>\n",
              "      <th>SMILES</th>\n",
              "      <th>atoms</th>\n",
              "      <th>bonds</th>\n",
              "      <th>HBA1</th>\n",
              "      <th>MP</th>\n",
              "      <th>MR</th>\n",
              "      <th>MW</th>\n",
              "      <th>sbonds</th>\n",
              "    </tr>\n",
              "  </thead>\n",
              "  <tbody>\n",
              "    <tr>\n",
              "      <th>0</th>\n",
              "      <td>train_0</td>\n",
              "      <td>CCC1CCCCN1C(=O)C(C)OC(=O)c1c(C)oc(-n2cccc2)c1C#N</td>\n",
              "      <td>5.460736</td>\n",
              "      <td>5.527074</td>\n",
              "      <td>4.492018</td>\n",
              "      <td>7.456618</td>\n",
              "      <td>6.792434</td>\n",
              "      <td>9.612538</td>\n",
              "      <td>5.053371</td>\n",
              "    </tr>\n",
              "    <tr>\n",
              "      <th>1</th>\n",
              "      <td>train_1</td>\n",
              "      <td>COc1ccc(Oc2ccc(N3C(=S)NC(c4ccccn4)C3c3cc(C)n(-...</td>\n",
              "      <td>5.995517</td>\n",
              "      <td>6.123681</td>\n",
              "      <td>4.792130</td>\n",
              "      <td>9.146127</td>\n",
              "      <td>7.835009</td>\n",
              "      <td>10.728463</td>\n",
              "      <td>5.210789</td>\n",
              "    </tr>\n",
              "    <tr>\n",
              "      <th>2</th>\n",
              "      <td>train_2</td>\n",
              "      <td>CC(=O)Nc1ccc(C(=O)[C@H](C)Sc2nnc(C3CCCCC3)o2)cc1</td>\n",
              "      <td>5.321541</td>\n",
              "      <td>5.392276</td>\n",
              "      <td>4.437269</td>\n",
              "      <td>7.962494</td>\n",
              "      <td>6.689150</td>\n",
              "      <td>9.548490</td>\n",
              "      <td>4.882973</td>\n",
              "    </tr>\n",
              "    <tr>\n",
              "      <th>3</th>\n",
              "      <td>train_3</td>\n",
              "      <td>OC(CNC1CC1)CN1CCc2sccc2C1</td>\n",
              "      <td>4.838059</td>\n",
              "      <td>4.926918</td>\n",
              "      <td>4.071754</td>\n",
              "      <td>6.658122</td>\n",
              "      <td>6.084638</td>\n",
              "      <td>8.625657</td>\n",
              "      <td>4.697012</td>\n",
              "    </tr>\n",
              "    <tr>\n",
              "      <th>4</th>\n",
              "      <td>train_4</td>\n",
              "      <td>CCNC(CCCC(F)(F)F)C1(OCC)CCOCC1</td>\n",
              "      <td>5.210789</td>\n",
              "      <td>5.210789</td>\n",
              "      <td>4.437269</td>\n",
              "      <td>2.915825</td>\n",
              "      <td>6.034707</td>\n",
              "      <td>9.005144</td>\n",
              "      <td>5.210789</td>\n",
              "    </tr>\n",
              "    <tr>\n",
              "      <th>...</th>\n",
              "      <td>...</td>\n",
              "      <td>...</td>\n",
              "      <td>...</td>\n",
              "      <td>...</td>\n",
              "      <td>...</td>\n",
              "      <td>...</td>\n",
              "      <td>...</td>\n",
              "      <td>...</td>\n",
              "      <td>...</td>\n",
              "    </tr>\n",
              "    <tr>\n",
              "      <th>597</th>\n",
              "      <td>test_597</td>\n",
              "      <td>N#Cc1c(-n2c3ccccc3c3ccccc32)c(-n2c3ccccc3c3ccc...</td>\n",
              "      <td>6.491070</td>\n",
              "      <td>6.732788</td>\n",
              "      <td>4.697012</td>\n",
              "      <td>10.566282</td>\n",
              "      <td>8.570158</td>\n",
              "      <td>11.385618</td>\n",
              "      <td>4.838059</td>\n",
              "    </tr>\n",
              "    <tr>\n",
              "      <th>598</th>\n",
              "      <td>test_598</td>\n",
              "      <td>CC1(C)c2ccccc2N(c2ccc(-c3cc(-c4ccc(N5c6ccccc6C...</td>\n",
              "      <td>6.404587</td>\n",
              "      <td>6.574447</td>\n",
              "      <td>5.053371</td>\n",
              "      <td>9.164559</td>\n",
              "      <td>8.244728</td>\n",
              "      <td>10.937966</td>\n",
              "      <td>5.494161</td>\n",
              "    </tr>\n",
              "    <tr>\n",
              "      <th>599</th>\n",
              "      <td>test_599</td>\n",
              "      <td>Cc1nc(-c2ccc(N3c4ccccc4C(C)(C)c4ccccc43)cc2)cc...</td>\n",
              "      <td>6.469750</td>\n",
              "      <td>6.635082</td>\n",
              "      <td>5.133567</td>\n",
              "      <td>9.200333</td>\n",
              "      <td>8.296091</td>\n",
              "      <td>10.994623</td>\n",
              "      <td>5.591427</td>\n",
              "    </tr>\n",
              "    <tr>\n",
              "      <th>600</th>\n",
              "      <td>test_600</td>\n",
              "      <td>c1ccc2c(c1)Oc1ccccc1N2c1ccc(-c2nc3ccccc3s2)cc1</td>\n",
              "      <td>5.172535</td>\n",
              "      <td>5.357203</td>\n",
              "      <td>3.782057</td>\n",
              "      <td>8.129924</td>\n",
              "      <td>7.067094</td>\n",
              "      <td>9.669339</td>\n",
              "      <td>4.003419</td>\n",
              "    </tr>\n",
              "    <tr>\n",
              "      <th>601</th>\n",
              "      <td>test_601</td>\n",
              "      <td>c1ccc2c(c1)Oc1ccccc1N2c1ccc(-c2nc3cc4sc(-c5ccc...</td>\n",
              "      <td>6.172972</td>\n",
              "      <td>6.404587</td>\n",
              "      <td>4.597157</td>\n",
              "      <td>9.731064</td>\n",
              "      <td>8.305620</td>\n",
              "      <td>11.173477</td>\n",
              "      <td>4.882973</td>\n",
              "    </tr>\n",
              "  </tbody>\n",
              "</table>\n",
              "<p>30947 rows × 9 columns</p>\n",
              "</div>"
            ],
            "text/plain": [
              "          uid  ...    sbonds\n",
              "0     train_0  ...  5.053371\n",
              "1     train_1  ...  5.210789\n",
              "2     train_2  ...  4.882973\n",
              "3     train_3  ...  4.697012\n",
              "4     train_4  ...  5.210789\n",
              "..        ...  ...       ...\n",
              "597  test_597  ...  4.838059\n",
              "598  test_598  ...  5.494161\n",
              "599  test_599  ...  5.591427\n",
              "600  test_600  ...  4.003419\n",
              "601  test_601  ...  4.882973\n",
              "\n",
              "[30947 rows x 9 columns]"
            ]
          },
          "metadata": {},
          "execution_count": 23
        }
      ]
    },
    {
      "cell_type": "code",
      "metadata": {
        "colab": {
          "base_uri": "https://localhost:8080/",
          "height": 886
        },
        "id": "hEvjPY9CqkJ5",
        "outputId": "5bf202d0-7656-4a34-a7a4-6c6496a904dd"
      },
      "source": [
        "#4-1 중요변수 확인 // 변수들과 에너지갭의 상관관계가 미약하다.\n",
        "df_new = df_o_corr.corr()\n",
        "plt.figure(figsize=(5,15))\n",
        "sns.heatmap(df_new[['ST1_GAP(eV)']].sort_values(by=['ST1_GAP(eV)'],\n",
        "                                ascending=True).head(30),annot=True)"
      ],
      "execution_count": null,
      "outputs": [
        {
          "output_type": "execute_result",
          "data": {
            "text/plain": [
              "<matplotlib.axes._subplots.AxesSubplot at 0x7f78a4a63d90>"
            ]
          },
          "metadata": {},
          "execution_count": 24
        },
        {
          "output_type": "display_data",
          "data": {
            "image/png": "[encoded data removed]",
            "text/plain": [
              "<Figure size 360x1080 with 2 Axes>"
            ]
          },
          "metadata": {
            "needs_background": "light"
          }
        }
      ]
    },
    {
      "cell_type": "code",
      "metadata": {
        "colab": {
          "base_uri": "https://localhost:8080/"
        },
        "id": "x_dhU6gFYE8M",
        "outputId": "b3ae06eb-6f4c-49bf-d966-d10ba4f7843b"
      },
      "source": [
        "# train 과 test 다시 분리해주기 // dataframe 최종본\n",
        "train = df_concat[:df_train.shape[0]]\n",
        "train = pd.concat([train,target], axis=1, sort=False)\n",
        "for x in ['atoms', 'bonds', 'HBA1', 'MP', 'MR', 'MW', 'sbonds']:\n",
        "  train[x] = train[x].fillna(train[x].mean())\n",
        "test = df_concat[df_train.shape[0]:]\n",
        "test['MP'] = test['MP'].fillna(test['MP'].mean())"
      ],
      "execution_count": null,
      "outputs": [
        {
          "output_type": "stream",
          "name": "stderr",
          "text": [
            "/usr/local/lib/python3.7/dist-packages/ipykernel_launcher.py:7: SettingWithCopyWarning: \n",
            "A value is trying to be set on a copy of a slice from a DataFrame.\n",
            "Try using .loc[row_indexer,col_indexer] = value instead\n",
            "\n",
            "See the caveats in the documentation: https://pandas.pydata.org/pandas-docs/stable/user_guide/indexing.html#returning-a-view-versus-a-copy\n",
            "  import sys\n"
          ]
        }
      ]
    },
    {
      "cell_type": "code",
      "metadata": {
        "colab": {
          "base_uri": "https://localhost:8080/",
          "height": 419
        },
        "id": "M3xeUy9mjlZK",
        "outputId": "5f30a823-d3d4-47db-9c48-c18eea40e618"
      },
      "source": [
        "train"
      ],
      "execution_count": null,
      "outputs": [
        {
          "output_type": "execute_result",
          "data": {
            "text/html": [
              "<div>\n",
              "<style scoped>\n",
              "    .dataframe tbody tr th:only-of-type {\n",
              "        vertical-align: middle;\n",
              "    }\n",
              "\n",
              "    .dataframe tbody tr th {\n",
              "        vertical-align: top;\n",
              "    }\n",
              "\n",
              "    .dataframe thead th {\n",
              "        text-align: right;\n",
              "    }\n",
              "</style>\n",
              "<table border=\"1\" class=\"dataframe\">\n",
              "  <thead>\n",
              "    <tr style=\"text-align: right;\">\n",
              "      <th></th>\n",
              "      <th>uid</th>\n",
              "      <th>SMILES</th>\n",
              "      <th>atoms</th>\n",
              "      <th>bonds</th>\n",
              "      <th>HBA1</th>\n",
              "      <th>MP</th>\n",
              "      <th>MR</th>\n",
              "      <th>MW</th>\n",
              "      <th>sbonds</th>\n",
              "      <th>ST1_GAP(eV)</th>\n",
              "    </tr>\n",
              "  </thead>\n",
              "  <tbody>\n",
              "    <tr>\n",
              "      <th>0</th>\n",
              "      <td>train_0</td>\n",
              "      <td>CCC1CCCCN1C(=O)C(C)OC(=O)c1c(C)oc(-n2cccc2)c1C#N</td>\n",
              "      <td>5.460736</td>\n",
              "      <td>5.527074</td>\n",
              "      <td>4.492018</td>\n",
              "      <td>7.456618</td>\n",
              "      <td>6.792434</td>\n",
              "      <td>9.612538</td>\n",
              "      <td>5.053371</td>\n",
              "      <td>0.830210</td>\n",
              "    </tr>\n",
              "    <tr>\n",
              "      <th>1</th>\n",
              "      <td>train_1</td>\n",
              "      <td>COc1ccc(Oc2ccc(N3C(=S)NC(c4ccccn4)C3c3cc(C)n(-...</td>\n",
              "      <td>5.995517</td>\n",
              "      <td>6.123681</td>\n",
              "      <td>4.792130</td>\n",
              "      <td>9.146127</td>\n",
              "      <td>7.835009</td>\n",
              "      <td>10.728463</td>\n",
              "      <td>5.210789</td>\n",
              "      <td>0.184985</td>\n",
              "    </tr>\n",
              "    <tr>\n",
              "      <th>2</th>\n",
              "      <td>train_2</td>\n",
              "      <td>CC(=O)Nc1ccc(C(=O)[C@H](C)Sc2nnc(C3CCCCC3)o2)cc1</td>\n",
              "      <td>5.321541</td>\n",
              "      <td>5.392276</td>\n",
              "      <td>4.437269</td>\n",
              "      <td>7.962494</td>\n",
              "      <td>6.689150</td>\n",
              "      <td>9.548490</td>\n",
              "      <td>4.882973</td>\n",
              "      <td>0.380694</td>\n",
              "    </tr>\n",
              "    <tr>\n",
              "      <th>3</th>\n",
              "      <td>train_3</td>\n",
              "      <td>OC(CNC1CC1)CN1CCc2sccc2C1</td>\n",
              "      <td>4.838059</td>\n",
              "      <td>4.926918</td>\n",
              "      <td>4.071754</td>\n",
              "      <td>6.658122</td>\n",
              "      <td>6.084638</td>\n",
              "      <td>8.625657</td>\n",
              "      <td>4.697012</td>\n",
              "      <td>0.744505</td>\n",
              "    </tr>\n",
              "    <tr>\n",
              "      <th>4</th>\n",
              "      <td>train_4</td>\n",
              "      <td>CCNC(CCCC(F)(F)F)C1(OCC)CCOCC1</td>\n",
              "      <td>5.210789</td>\n",
              "      <td>5.210789</td>\n",
              "      <td>4.437269</td>\n",
              "      <td>2.915825</td>\n",
              "      <td>6.034707</td>\n",
              "      <td>9.005144</td>\n",
              "      <td>5.210789</td>\n",
              "      <td>0.202369</td>\n",
              "    </tr>\n",
              "    <tr>\n",
              "      <th>...</th>\n",
              "      <td>...</td>\n",
              "      <td>...</td>\n",
              "      <td>...</td>\n",
              "      <td>...</td>\n",
              "      <td>...</td>\n",
              "      <td>...</td>\n",
              "      <td>...</td>\n",
              "      <td>...</td>\n",
              "      <td>...</td>\n",
              "      <td>...</td>\n",
              "    </tr>\n",
              "    <tr>\n",
              "      <th>30340</th>\n",
              "      <td>dev_66</td>\n",
              "      <td>N#Cc1cc(-c2ccc(N3c4ccccc4Oc4ccccc43)cc2)c(-c2c...</td>\n",
              "      <td>6.123681</td>\n",
              "      <td>6.314735</td>\n",
              "      <td>4.597157</td>\n",
              "      <td>9.458462</td>\n",
              "      <td>8.126945</td>\n",
              "      <td>10.921135</td>\n",
              "      <td>4.969939</td>\n",
              "      <td>0.009257</td>\n",
              "    </tr>\n",
              "    <tr>\n",
              "      <th>30341</th>\n",
              "      <td>dev_67</td>\n",
              "      <td>CC1(C)c2ccccc2N(c2ccc(-c3nc4ccc(N5c6ccccc6C(C)...</td>\n",
              "      <td>7.071285</td>\n",
              "      <td>7.262963</td>\n",
              "      <td>5.622899</td>\n",
              "      <td>10.103583</td>\n",
              "      <td>9.032046</td>\n",
              "      <td>11.843776</td>\n",
              "      <td>6.123681</td>\n",
              "      <td>0.016464</td>\n",
              "    </tr>\n",
              "    <tr>\n",
              "      <th>30342</th>\n",
              "      <td>dev_68</td>\n",
              "      <td>Cc1cc(-n2c3ccc(C(C)(C)C)cc3c3cc(C(C)(C)C)ccc32...</td>\n",
              "      <td>7.397498</td>\n",
              "      <td>7.538898</td>\n",
              "      <td>6.073289</td>\n",
              "      <td>10.376340</td>\n",
              "      <td>9.183243</td>\n",
              "      <td>11.948777</td>\n",
              "      <td>6.654950</td>\n",
              "      <td>0.010346</td>\n",
              "    </tr>\n",
              "    <tr>\n",
              "      <th>30343</th>\n",
              "      <td>dev_69</td>\n",
              "      <td>Cc1cc(-n2c3ccccc3c3ccccc32)cc(C)c1B1c2ccccc2B(...</td>\n",
              "      <td>6.574447</td>\n",
              "      <td>6.770766</td>\n",
              "      <td>5.053371</td>\n",
              "      <td>10.178046</td>\n",
              "      <td>8.545220</td>\n",
              "      <td>11.202366</td>\n",
              "      <td>5.426781</td>\n",
              "      <td>0.013804</td>\n",
              "    </tr>\n",
              "    <tr>\n",
              "      <th>30344</th>\n",
              "      <td>dev_70</td>\n",
              "      <td>CC(C)(C)c1ccc2c(c1)c1cc(C(C)(C)C)ccc1n2-c1c(Cl...</td>\n",
              "      <td>7.426427</td>\n",
              "      <td>7.552608</td>\n",
              "      <td>6.073289</td>\n",
              "      <td>10.437515</td>\n",
              "      <td>9.174487</td>\n",
              "      <td>12.110654</td>\n",
              "      <td>6.694191</td>\n",
              "      <td>0.121598</td>\n",
              "    </tr>\n",
              "  </tbody>\n",
              "</table>\n",
              "<p>30345 rows × 10 columns</p>\n",
              "</div>"
            ],
            "text/plain": [
              "           uid  ... ST1_GAP(eV)\n",
              "0      train_0  ...    0.830210\n",
              "1      train_1  ...    0.184985\n",
              "2      train_2  ...    0.380694\n",
              "3      train_3  ...    0.744505\n",
              "4      train_4  ...    0.202369\n",
              "...        ...  ...         ...\n",
              "30340   dev_66  ...    0.009257\n",
              "30341   dev_67  ...    0.016464\n",
              "30342   dev_68  ...    0.010346\n",
              "30343   dev_69  ...    0.013804\n",
              "30344   dev_70  ...    0.121598\n",
              "\n",
              "[30345 rows x 10 columns]"
            ]
          },
          "metadata": {},
          "execution_count": 26
        }
      ]
    },
    {
      "cell_type": "code",
      "metadata": {
        "colab": {
          "base_uri": "https://localhost:8080/",
          "height": 419
        },
        "id": "hDDnN4qBMjX2",
        "outputId": "6a3101e8-6c60-484d-b76b-a416715d6915"
      },
      "source": [
        "test"
      ],
      "execution_count": null,
      "outputs": [
        {
          "output_type": "execute_result",
          "data": {
            "text/html": [
              "<div>\n",
              "<style scoped>\n",
              "    .dataframe tbody tr th:only-of-type {\n",
              "        vertical-align: middle;\n",
              "    }\n",
              "\n",
              "    .dataframe tbody tr th {\n",
              "        vertical-align: top;\n",
              "    }\n",
              "\n",
              "    .dataframe thead th {\n",
              "        text-align: right;\n",
              "    }\n",
              "</style>\n",
              "<table border=\"1\" class=\"dataframe\">\n",
              "  <thead>\n",
              "    <tr style=\"text-align: right;\">\n",
              "      <th></th>\n",
              "      <th>uid</th>\n",
              "      <th>SMILES</th>\n",
              "      <th>atoms</th>\n",
              "      <th>bonds</th>\n",
              "      <th>HBA1</th>\n",
              "      <th>MP</th>\n",
              "      <th>MR</th>\n",
              "      <th>MW</th>\n",
              "      <th>sbonds</th>\n",
              "    </tr>\n",
              "  </thead>\n",
              "  <tbody>\n",
              "    <tr>\n",
              "      <th>0</th>\n",
              "      <td>test_0</td>\n",
              "      <td>COc1ccc(S(=O)(=O)NC2CCN(C3CCCCC3)CC2)c(C)c1C</td>\n",
              "      <td>5.622899</td>\n",
              "      <td>5.684507</td>\n",
              "      <td>4.838059</td>\n",
              "      <td>7.036386</td>\n",
              "      <td>6.834235</td>\n",
              "      <td>9.594083</td>\n",
              "      <td>5.426781</td>\n",
              "    </tr>\n",
              "    <tr>\n",
              "      <th>1</th>\n",
              "      <td>test_1</td>\n",
              "      <td>CC(CCCC1CCC2C3=C(CC[C@]12C)[C@@]1(C)CC[C@H](C)...</td>\n",
              "      <td>6.291711</td>\n",
              "      <td>6.360100</td>\n",
              "      <td>5.460736</td>\n",
              "      <td>7.485289</td>\n",
              "      <td>7.305818</td>\n",
              "      <td>9.886786</td>\n",
              "      <td>6.337529</td>\n",
              "    </tr>\n",
              "    <tr>\n",
              "      <th>2</th>\n",
              "      <td>test_2</td>\n",
              "      <td>C[C@@H]1C[C@@H]1c1ccc2c(c1)c(-c1ccc[nH]c1=O)c(...</td>\n",
              "      <td>5.653921</td>\n",
              "      <td>5.773773</td>\n",
              "      <td>4.380946</td>\n",
              "      <td>9.239484</td>\n",
              "      <td>7.230375</td>\n",
              "      <td>10.330164</td>\n",
              "      <td>4.838059</td>\n",
              "    </tr>\n",
              "    <tr>\n",
              "      <th>3</th>\n",
              "      <td>test_3</td>\n",
              "      <td>CCCn1c(=O)c2ccccc2n2c(SCC(=O)NC(Cc3ccccc3)c3cc...</td>\n",
              "      <td>5.773773</td>\n",
              "      <td>5.887419</td>\n",
              "      <td>4.647709</td>\n",
              "      <td>8.828870</td>\n",
              "      <td>7.393810</td>\n",
              "      <td>10.260063</td>\n",
              "      <td>4.882973</td>\n",
              "    </tr>\n",
              "    <tr>\n",
              "      <th>4</th>\n",
              "      <td>test_4</td>\n",
              "      <td>CC(C)CN(C[C@@H](O)[C@H](Cc1ccccc1)NC(=O)OCc1cn...</td>\n",
              "      <td>5.968981</td>\n",
              "      <td>6.047664</td>\n",
              "      <td>5.012077</td>\n",
              "      <td>8.928641</td>\n",
              "      <td>7.532854</td>\n",
              "      <td>10.696114</td>\n",
              "      <td>5.321541</td>\n",
              "    </tr>\n",
              "    <tr>\n",
              "      <th>...</th>\n",
              "      <td>...</td>\n",
              "      <td>...</td>\n",
              "      <td>...</td>\n",
              "      <td>...</td>\n",
              "      <td>...</td>\n",
              "      <td>...</td>\n",
              "      <td>...</td>\n",
              "      <td>...</td>\n",
              "      <td>...</td>\n",
              "    </tr>\n",
              "    <tr>\n",
              "      <th>597</th>\n",
              "      <td>test_597</td>\n",
              "      <td>N#Cc1c(-n2c3ccccc3c3ccccc32)c(-n2c3ccccc3c3ccc...</td>\n",
              "      <td>6.491070</td>\n",
              "      <td>6.732788</td>\n",
              "      <td>4.697012</td>\n",
              "      <td>10.566282</td>\n",
              "      <td>8.570158</td>\n",
              "      <td>11.385618</td>\n",
              "      <td>4.838059</td>\n",
              "    </tr>\n",
              "    <tr>\n",
              "      <th>598</th>\n",
              "      <td>test_598</td>\n",
              "      <td>CC1(C)c2ccccc2N(c2ccc(-c3cc(-c4ccc(N5c6ccccc6C...</td>\n",
              "      <td>6.404587</td>\n",
              "      <td>6.574447</td>\n",
              "      <td>5.053371</td>\n",
              "      <td>9.164559</td>\n",
              "      <td>8.244728</td>\n",
              "      <td>10.937966</td>\n",
              "      <td>5.494161</td>\n",
              "    </tr>\n",
              "    <tr>\n",
              "      <th>599</th>\n",
              "      <td>test_599</td>\n",
              "      <td>Cc1nc(-c2ccc(N3c4ccccc4C(C)(C)c4ccccc43)cc2)cc...</td>\n",
              "      <td>6.469750</td>\n",
              "      <td>6.635082</td>\n",
              "      <td>5.133567</td>\n",
              "      <td>9.200333</td>\n",
              "      <td>8.296091</td>\n",
              "      <td>10.994623</td>\n",
              "      <td>5.591427</td>\n",
              "    </tr>\n",
              "    <tr>\n",
              "      <th>600</th>\n",
              "      <td>test_600</td>\n",
              "      <td>c1ccc2c(c1)Oc1ccccc1N2c1ccc(-c2nc3ccccc3s2)cc1</td>\n",
              "      <td>5.172535</td>\n",
              "      <td>5.357203</td>\n",
              "      <td>3.782057</td>\n",
              "      <td>8.129924</td>\n",
              "      <td>7.067094</td>\n",
              "      <td>9.669339</td>\n",
              "      <td>4.003419</td>\n",
              "    </tr>\n",
              "    <tr>\n",
              "      <th>601</th>\n",
              "      <td>test_601</td>\n",
              "      <td>c1ccc2c(c1)Oc1ccccc1N2c1ccc(-c2nc3cc4sc(-c5ccc...</td>\n",
              "      <td>6.172972</td>\n",
              "      <td>6.404587</td>\n",
              "      <td>4.597157</td>\n",
              "      <td>9.731064</td>\n",
              "      <td>8.305620</td>\n",
              "      <td>11.173477</td>\n",
              "      <td>4.882973</td>\n",
              "    </tr>\n",
              "  </tbody>\n",
              "</table>\n",
              "<p>602 rows × 9 columns</p>\n",
              "</div>"
            ],
            "text/plain": [
              "          uid  ...    sbonds\n",
              "0      test_0  ...  5.426781\n",
              "1      test_1  ...  6.337529\n",
              "2      test_2  ...  4.838059\n",
              "3      test_3  ...  4.882973\n",
              "4      test_4  ...  5.321541\n",
              "..        ...  ...       ...\n",
              "597  test_597  ...  4.838059\n",
              "598  test_598  ...  5.494161\n",
              "599  test_599  ...  5.591427\n",
              "600  test_600  ...  4.003419\n",
              "601  test_601  ...  4.882973\n",
              "\n",
              "[602 rows x 9 columns]"
            ]
          },
          "metadata": {},
          "execution_count": 27
        }
      ]
    },
    {
      "cell_type": "markdown",
      "metadata": {
        "id": "FMTr0S51ngJk"
      },
      "source": [
        "# **3. SMILES - 전처리**"
      ]
    },
    {
      "cell_type": "code",
      "metadata": {
        "colab": {
          "base_uri": "https://localhost:8080/"
        },
        "id": "6UK-FgjNEOG3",
        "outputId": "0c60772e-7604-490e-cb34-0a95f96c4e04"
      },
      "source": [
        "# 전처리1 - 토큰화\n",
        "from SmilesPE.pretokenizer import atomwise_tokenizer\n",
        "\n",
        "train_smiles = train.SMILES.values.tolist()\n",
        "smiles = []\n",
        "for i in train_smiles:\n",
        "  tok = atomwise_tokenizer(i)\n",
        "  smiles.append(tok)\n",
        "\n",
        "len(smiles)"
      ],
      "execution_count": null,
      "outputs": [
        {
          "output_type": "execute_result",
          "data": {
            "text/plain": [
              "30345"
            ]
          },
          "metadata": {},
          "execution_count": 28
        }
      ]
    },
    {
      "cell_type": "code",
      "metadata": {
        "colab": {
          "base_uri": "https://localhost:8080/"
        },
        "id": "rAx-fMpuEURp",
        "outputId": "b13c03de-84b0-4942-dffc-5ab848ab2a57"
      },
      "source": [
        "# 전처리2 - 정수인코딩\n",
        "from tensorflow.keras.preprocessing.text import Tokenizer\n",
        "\n",
        "# vocab\n",
        "tokenizer = Tokenizer()\n",
        "tokenizer.fit_on_texts(smiles)\n",
        "print(tokenizer.word_index)\n",
        "print(tokenizer.word_counts)\n",
        "\n",
        "# txt2seq\n",
        "txt2seq = tokenizer.texts_to_sequences(smiles)"
      ],
      "execution_count": null,
      "outputs": [
        {
          "output_type": "stream",
          "name": "stdout",
          "text": [
            "{'c': 1, '(': 2, ')': 3, '1': 4, 'n': 5, 'o': 6, '2': 7, '=': 8, '3': 9, 'f': 10, 's': 11, '4': 12, '-': 13, 'cl': 14, '/': 15, '5': 16, '[c@h]': 17, '[c@@h]': 18, '#': 19, '[nh]': 20, 'br': 21, '[n+]': 22, '6': 23, '[o-]': 24, '\\\\': 25, '7': 26, '[b-]': 27, '[si]': 28, 'i': 29, 'p': 30, '[c@]': 31, '[c@@]': 32, '8': 33, 'b': 34, '9': 35, '[n-]': 36, '[o+]': 37, '[nh+]': 38, '[c-]': 39, '%10': 40, '[sih]': 41, '[s@]': 42, '%11': 43, '[13ch]': 44, '[sih3]': 45, '[sih2]': 46, '[s@@]': 47, '[nh2+]': 48, '%12': 49, '[13c]': 50, '[nh3+]': 51, '[p@@]': 52, '%13': 53, '[s-]': 54, '[b]': 55, '[p+]': 56, '[p-]': 57, '[c+]': 58, '%14': 59, '[ih2]': 60, '[124i]': 61, '[3h]': 62, '[p@]': 63, '[ph]': 64, '[13ch3]': 65, '[ch]': 66, '[14ch]': 67, '[bh3-]': 68}\n",
            "OrderedDict([('c', 564371), ('1', 82800), ('n', 72841), ('(', 129311), ('=', 48180), ('o', 71702), (')', 129311), ('-', 8246), ('2', 55642), ('#', 2991), ('3', 25232), ('s', 10733), ('4', 9398), ('cl', 5708), ('[c@h]', 3306), ('f', 11827), ('br', 2307), ('[c@@h]', 3243), ('[nh]', 2453), ('[n+]', 1656), ('[o-]', 1191), ('[si]', 382), ('i', 341), ('/', 4509), ('[c@]', 259), ('\\\\', 1076), ('5', 3590), ('[c@@]', 246), ('p', 266), ('6', 1340), ('7', 606), ('[n-]', 50), ('[c-]', 30), ('b', 139), ('[s@]', 10), ('[s@@]', 6), ('[ih2]', 1), ('[nh+]', 33), ('8', 202), ('9', 88), ('[13c]', 4), ('[13ch]', 7), ('[124i]', 1), ('[3h]', 1), ('[sih3]', 7), ('[s-]', 3), ('[sih2]', 7), ('[p@]', 1), ('[o+]', 39), ('[sih]', 12), ('[ph]', 1), ('[b]', 3), ('[nh3+]', 4), ('[nh2+]', 6), ('[p+]', 3), ('[13ch3]', 1), ('[ch]', 1), ('[p@@]', 4), ('%10', 30), ('%11', 10), ('[14ch]', 1), ('[b-]', 430), ('[p-]', 2), ('[c+]', 2), ('%12', 6), ('%13', 4), ('%14', 2), ('[bh3-]', 1)])\n"
          ]
        }
      ]
    },
    {
      "cell_type": "code",
      "metadata": {
        "colab": {
          "base_uri": "https://localhost:8080/"
        },
        "id": "r2brfpX1L23O",
        "outputId": "8dc703b3-7a36-407e-d302-8e338d326b29"
      },
      "source": [
        "# 전처리3 - 패딩\n",
        "from tensorflow.keras.preprocessing.sequence import pad_sequences\n",
        "\n",
        "max_len = max(len(item) for item in txt2seq)\n",
        "print(max_len)\n",
        "\n",
        "txt2seq = pad_sequences(txt2seq, padding = 'post', maxlen = 30)\n",
        "txt2seq.shape"
      ],
      "execution_count": null,
      "outputs": [
        {
          "output_type": "stream",
          "name": "stdout",
          "text": [
            "100\n"
          ]
        },
        {
          "output_type": "execute_result",
          "data": {
            "text/plain": [
              "(30345, 30)"
            ]
          },
          "metadata": {},
          "execution_count": 44
        }
      ]
    },
    {
      "cell_type": "code",
      "metadata": {
        "colab": {
          "base_uri": "https://localhost:8080/"
        },
        "id": "SS6JNp4yFq-Q",
        "outputId": "7258e4c1-afff-4871-cee1-a7028153484c"
      },
      "source": [
        "# 전처리 - test\n",
        "\n",
        "test_smiles = test.SMILES.values.tolist()\n",
        "smiles = []\n",
        "for i in test_smiles:\n",
        "  tok = atomwise_tokenizer(i)\n",
        "  smiles.append(tok)\n",
        "\n",
        "# txt2seq\n",
        "txt2seq_test = tokenizer.texts_to_sequences(smiles)\n",
        "\n",
        "max_len = max(len(item) for item in txt2seq_test)\n",
        "print(max_len)\n",
        "\n",
        "# padding\n",
        "txt2seq_test = pad_sequences(txt2seq_test, padding = 'post', maxlen = 30)\n",
        "print(txt2seq_test.shape)\n",
        "txt2seq_test"
      ],
      "execution_count": null,
      "outputs": [
        {
          "output_type": "stream",
          "name": "stdout",
          "text": [
            "515\n",
            "(602, 30)\n"
          ]
        },
        {
          "output_type": "execute_result",
          "data": {
            "text/plain": [
              "array([[ 8,  6,  3, ...,  1,  4,  1],\n",
              "       [ 2,  1,  3, ...,  1,  3,  6],\n",
              "       [ 8,  6,  3, ...,  1,  4, 10],\n",
              "       ...,\n",
              "       [12,  1,  1, ...,  3,  5,  4],\n",
              "       [ 1,  1,  1, ...,  1,  1,  4],\n",
              "       [ 1,  1, 26, ...,  1,  1,  4]], dtype=int32)"
            ]
          },
          "metadata": {},
          "execution_count": 45
        }
      ]
    },
    {
      "cell_type": "code",
      "metadata": {
        "colab": {
          "base_uri": "https://localhost:8080/"
        },
        "id": "pOq0fN6WILf8",
        "outputId": "5817f132-cf61-4f1c-f5ef-7d0fe43c07c4"
      },
      "source": [
        "# label 데이터 뽑아주기\n",
        "label = train['ST1_GAP(eV)'].values\n",
        "label = label.reshape(30345,)\n",
        "label.shape"
      ],
      "execution_count": null,
      "outputs": [
        {
          "output_type": "execute_result",
          "data": {
            "text/plain": [
              "(30345,)"
            ]
          },
          "metadata": {},
          "execution_count": 46
        }
      ]
    },
    {
      "cell_type": "code",
      "metadata": {
        "id": "BLQl6cp6298_"
      },
      "source": [
        "# 총 데이터\n",
        "\n",
        "# 1. train\n",
        "# 2. test\n",
        "# 3. target\n",
        "# 4. txt2seq\n",
        "# 5. txt2seq_test\n",
        "# 6. label"
      ],
      "execution_count": null,
      "outputs": []
    },
    {
      "cell_type": "markdown",
      "metadata": {
        "id": "UPomAx821v4i"
      },
      "source": [
        "# **Modeling : LSTM - SMILES NLP**"
      ]
    },
    {
      "cell_type": "code",
      "metadata": {
        "colab": {
          "base_uri": "https://localhost:8080/"
        },
        "id": "MgqfaRfYJKYr",
        "outputId": "9f2bb070-0df1-463e-fc60-86744fbf9705"
      },
      "source": [
        "# 데이터셋 Split\n",
        "from sklearn.model_selection import train_test_split\n",
        "\n",
        "x_train, x_test, y_train, y_test = train_test_split(txt2seq, label, test_size=0.2, random_state=42)\n",
        "\n",
        "print(x_train.shape)\n",
        "print(x_test.shape)\n",
        "print(y_train.shape)\n",
        "print(y_test.shape)"
      ],
      "execution_count": null,
      "outputs": [
        {
          "output_type": "stream",
          "name": "stdout",
          "text": [
            "(24276, 30)\n",
            "(6069, 30)\n",
            "(24276,)\n",
            "(6069,)\n"
          ]
        }
      ]
    },
    {
      "cell_type": "code",
      "metadata": {
        "id": "IPKnMFSmQuRZ"
      },
      "source": [
        "# 데이터 3차원 변환\n",
        "# x_train = x_train.reshape(x_train.shape[0], 265, 1)\n",
        "# x_test = x_test.reshape(x_test.shape[0], 265, 1)\n",
        "\n",
        "# test도 마찬가지\n",
        "# txt2seq_test = txt2seq_test.reshape(txt2seq_test.shape[0], 265, 1)"
      ],
      "execution_count": null,
      "outputs": []
    },
    {
      "cell_type": "code",
      "metadata": {
        "id": "bBS82f4-JE9Y"
      },
      "source": [
        "from tensorflow.keras import Sequential\n",
        "from tensorflow.keras.layers import Dense, Embedding, LSTM\n",
        "from keras.callbacks import EarlyStopping\n",
        "import keras.backend as K\n",
        "early_stop = EarlyStopping(monitor='loss', patience=1, verbose=1)"
      ],
      "execution_count": null,
      "outputs": []
    },
    {
      "cell_type": "code",
      "metadata": {
        "colab": {
          "base_uri": "https://localhost:8080/"
        },
        "id": "drSXGKHxFVcE",
        "outputId": "142168cd-def9-4697-9965-e632a4ea6e53"
      },
      "source": [
        "K.clear_session()\n",
        "\n",
        "model = Sequential() # Sequeatial Model \n",
        "\n",
        "model.add(Embedding(1000,32))\n",
        "model.add(LSTM(8)) # (timestep, feature) \n",
        "model.add(Dense(1, activation='linear')) # output = 1 \n",
        "model.summary()\n",
        "#model.fit(x_train, y_train, epochs=1, verbose=1, callbacks=[early_stop])"
      ],
      "execution_count": null,
      "outputs": [
        {
          "output_type": "stream",
          "name": "stdout",
          "text": [
            "Model: \"sequential\"\n",
            "_________________________________________________________________\n",
            "Layer (type)                 Output Shape              Param #   \n",
            "=================================================================\n",
            "embedding (Embedding)        (None, None, 32)          32000     \n",
            "_________________________________________________________________\n",
            "lstm (LSTM)                  (None, 8)                 1312      \n",
            "_________________________________________________________________\n",
            "dense (Dense)                (None, 1)                 9         \n",
            "=================================================================\n",
            "Total params: 33,321\n",
            "Trainable params: 33,321\n",
            "Non-trainable params: 0\n",
            "_________________________________________________________________\n"
          ]
        }
      ]
    },
    {
      "cell_type": "code",
      "metadata": {
        "colab": {
          "base_uri": "https://localhost:8080/"
        },
        "id": "X9NxPOHLluik",
        "outputId": "33beb199-ba40-4232-b8f4-cca94f9a8d0a"
      },
      "source": [
        "model.compile(loss='mean_squared_error', optimizer='adam') \n",
        "history = model.fit(x_train, y_train, epochs=5, verbose=1, callbacks=[early_stop])"
      ],
      "execution_count": null,
      "outputs": [
        {
          "output_type": "stream",
          "name": "stdout",
          "text": [
            "Epoch 1/5\n",
            "759/759 [==============================] - 13s 15ms/step - loss: 0.0488\n",
            "Epoch 2/5\n",
            "759/759 [==============================] - 11s 15ms/step - loss: 0.0421\n",
            "Epoch 3/5\n",
            "759/759 [==============================] - 11s 14ms/step - loss: 0.0420\n",
            "Epoch 4/5\n",
            "759/759 [==============================] - 11s 14ms/step - loss: 0.0419\n",
            "Epoch 5/5\n",
            "759/759 [==============================] - 11s 15ms/step - loss: 0.0419\n"
          ]
        }
      ]
    },
    {
      "cell_type": "code",
      "metadata": {
        "colab": {
          "base_uri": "https://localhost:8080/",
          "height": 266
        },
        "id": "54V9D0-arlrz",
        "outputId": "ceb5d47a-2fd2-44ca-89d0-f428b4c7886c"
      },
      "source": [
        "plt.plot(history.history['loss'])\n",
        "plt.show()"
      ],
      "execution_count": null,
      "outputs": [
        {
          "output_type": "display_data",
          "data": {
            "image/png": "[encoded data removed]",
            "text/plain": [
              "<Figure size 432x288 with 1 Axes>"
            ]
          },
          "metadata": {
            "needs_background": "light"
          }
        }
      ]
    },
    {
      "cell_type": "code",
      "metadata": {
        "colab": {
          "base_uri": "https://localhost:8080/"
        },
        "id": "4wgP_PvydgB-",
        "outputId": "2d281162-2bfe-4088-f677-fffb323646d6"
      },
      "source": [
        "# 모델 저장\n",
        "\n",
        "import os\n",
        "\n",
        "model_name = 'keras_naver_review_trained_model.h5'\n",
        "\n",
        "# Save model and weights\n",
        "model_path = os.path.join('/content/drive/MyDrive/Data Science/Colab Notebooks/Samsung AI Challenge for Scientific Discovery/', model_name)\n",
        "model.save(model_path)\n",
        "print('Saved trained model at %s ' % model_path)"
      ],
      "execution_count": null,
      "outputs": [
        {
          "output_type": "stream",
          "name": "stdout",
          "text": [
            "Saved trained model at /content/drive/MyDrive/Data Science/Colab Notebooks/Samsung AI Challenge for Scientific Discovery/keras_naver_review_trained_model.h5 \n"
          ]
        }
      ]
    },
    {
      "cell_type": "code",
      "metadata": {
        "id": "N4YWN71yd5J9"
      },
      "source": [
        "# 모델 test 예측\n",
        "\n",
        "pred_out = model.predict(txt2seq_test)\n",
        "\n",
        "predict = []\n",
        "for i in pred_out:\n",
        "  i = i.tolist()\n",
        "  i = i[0]\n",
        "  predict.append(i)\n",
        "\n",
        "predict"
      ],
      "execution_count": null,
      "outputs": []
    },
    {
      "cell_type": "code",
      "metadata": {
        "id": "oCWp2jqcdffq"
      },
      "source": [
        "# submission = pd.DataFrame({\n",
        "#     \"uid\" : test['uid'],\n",
        "#     \"ST1_GAP(eV)\" : np.expm1(predict)\n",
        "# })\n",
        "\n",
        "# submission.head()\n",
        "# submission.to_csv('/content/drive/MyDrive/Data Science/Colab Notebooks/Samsung AI Challenge for Scientific Discovery/submission.csv', index=False)"
      ],
      "execution_count": null,
      "outputs": []
    },
    {
      "cell_type": "markdown",
      "metadata": {
        "id": "6Vdvw7kM2fL1"
      },
      "source": [
        "# **Modeling 2차 - SDF + Smiles 예측값**"
      ]
    },
    {
      "cell_type": "code",
      "metadata": {
        "id": "qNv34Mgdzx0m"
      },
      "source": [
        "train_model = train.drop(['uid', 'SMILES', 'ST1_GAP(eV)'], axis=1)\n",
        "test_model = test.drop(['uid', 'SMILES'], axis=1)"
      ],
      "execution_count": null,
      "outputs": []
    },
    {
      "cell_type": "code",
      "metadata": {
        "colab": {
          "base_uri": "https://localhost:8080/"
        },
        "id": "HmnMfRJYMEnM",
        "outputId": "dfca9afc-2c08-458c-c414-f6612115fb8e"
      },
      "source": [
        "# 0단계 - datafrmae -> array\n",
        "train_model_a = train_model.values\n",
        "target_a = target.ravel()\n",
        "test_model_a = test_model.values\n",
        "\n",
        "# 1단계 - 훈련 셋, 테스트 셋 분할\n",
        "#훈련-테스트 분할// 분류문제가 아니므로 stratify=y 설정은 뺀다.\n",
        "x_train_all, x_test, y_train_all, y_test = train_test_split(train_model_a, target_a, test_size=0.2, random_state=42)\n",
        "\n",
        "print(len(x_train_all))\n",
        "print(len(x_test))\n",
        "print(len(y_train_all))\n",
        "print(len(y_test))"
      ],
      "execution_count": null,
      "outputs": [
        {
          "output_type": "stream",
          "name": "stdout",
          "text": [
            "24276\n",
            "6069\n",
            "24276\n",
            "6069\n"
          ]
        }
      ]
    },
    {
      "cell_type": "code",
      "metadata": {
        "colab": {
          "base_uri": "https://localhost:8080/"
        },
        "id": "4RChXhQDMZHP",
        "outputId": "eec9fab7-74da-48a2-80ee-cbcbc9969e05"
      },
      "source": [
        "# RandomForest 파라미터 튜닝 / 130점, 387등\n",
        "\n",
        "from sklearn.ensemble import RandomForestClassifier\n",
        "Ran = RandomForestRegressor()\n",
        "ran_params = { 'n_estimators' : [10,100],\n",
        "           'max_depth' : [8,12],\n",
        "           'min_samples_leaf' : [8,10],\n",
        "           'min_samples_split' : [8,10]\n",
        "            }\n",
        "grid_cv = GridSearchCV(Ran, param_grid = ran_params, cv = kfold, n_jobs = -1)\n",
        "grid_cv.fit(x_train_all,y_train_all)\n",
        "\n",
        "print('최적 하이퍼 파라미터: ', grid_cv.best_params_)\n",
        "print('최고 예측 정확도: {:.4f}'.format(grid_cv.best_score_))"
      ],
      "execution_count": null,
      "outputs": [
        {
          "output_type": "stream",
          "name": "stdout",
          "text": [
            "최적 하이퍼 파라미터:  {'max_depth': 12, 'min_samples_leaf': 8, 'min_samples_split': 8, 'n_estimators': 100}\n",
            "최고 예측 정확도: 0.1165\n"
          ]
        }
      ]
    },
    {
      "cell_type": "code",
      "metadata": {
        "id": "N3AIEvWzPG5K"
      },
      "source": [
        "ran_predict = grid_cv.predict(test_model_a)\n",
        "\n",
        "submission = pd.DataFrame({\n",
        "    \"uid\" : test['uid'],\n",
        "    \"ST1_GAP(eV)\" : np.expm1(ran_predict)\n",
        "})\n",
        "\n",
        "submission.head()\n",
        "submission.to_csv('/content/drive/MyDrive/Data Science/Colab Notebooks/Samsung AI Challenge for Scientific Discovery/ubmission.csv', index=False)"
      ],
      "execution_count": null,
      "outputs": []
    },
    {
      "cell_type": "markdown",
      "metadata": {
        "id": "_0K17TeNTZxH"
      },
      "source": [
        "## **FeedBack**"
      ]
    },
    {
      "cell_type": "markdown",
      "metadata": {
        "id": "ECWpX167TkgF"
      },
      "source": [
        "**(1) 딥러닝에 대한 깊은 이해가 필요하다. 기본적으로 어떻게 굴러가는지 제대로 이해하고 접근할 것.**\n",
        "\n",
        "**(2) 한번도 해보지 않은 대회, 공모전은 성급하게 참가하지 말 것. 먼저 공부하고 시작하자.**\n",
        "\n",
        "**(3) 공부 -> 과제 접근**\n",
        "\n",
        "**(4) 딥러닝을 단순히 라이브러리처럼 쓰는 것이 아니라 내 마음대로 구성하고 굴러가도록 연습하자.**\n",
        "\n",
        "**(5) Smiles를 어떻게 접근해야 할지 모르겠다.**\n",
        "\n",
        "**(6) 다중분류, 다중회귀부터 공부하고 NLP 접근하는것을 추천.**"
      ]
    }
  ]
}